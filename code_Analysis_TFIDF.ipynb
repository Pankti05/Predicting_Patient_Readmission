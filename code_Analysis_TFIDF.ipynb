{
 "cells": [
  {
   "cell_type": "code",
   "execution_count": null,
   "metadata": {},
   "outputs": [],
   "source": [
    "# this code uses a different feature extraction technique than the original code\n",
    "# TF-IDF is used for feature extraction "
   ]
  },
  {
   "cell_type": "markdown",
   "metadata": {},
   "source": [
    "# Install required Packages and Libraries "
   ]
  },
  {
   "cell_type": "code",
   "execution_count": 4,
   "metadata": {},
   "outputs": [],
   "source": [
    "from nltk.tokenize import word_tokenize\n",
    "from nltk.corpus import stopwords\n",
    "from sklearn.feature_extraction.text import CountVectorizer\n",
    "from sklearn.feature_extraction.text import TfidfVectorizer\n",
    "from nltk import pos_tag\n",
    "from nltk.stem import WordNetLemmatizer # lemmatizes word based on its parts of speech\n",
    "from sklearn.metrics import roc_curve, classification_report, confusion_matrix \n",
    "from sklearn.metrics import accuracy_score, f1_score, precision_score, recall_score\n",
    "from sklearn.metrics import make_scorer, roc_auc_score\n",
    "from sklearn.neighbors import KNeighborsClassifier\n",
    "from sklearn.linear_model import LogisticRegression\n",
    "from sklearn.linear_model import SGDClassifier\n",
    "from sklearn.tree import DecisionTreeClassifier\n",
    "from sklearn.ensemble import RandomForestClassifier\n",
    "from sklearn.ensemble import GradientBoostingClassifier\n",
    "from sklearn.ensemble import AdaBoostClassifier\n",
    "from sklearn.model_selection import RandomizedSearchCV\n",
    "from sklearn.model_selection import GridSearchCV\n",
    "import seaborn as sns\n",
    "import matplotlib.pyplot as plt\n",
    "import string\n",
    "import re\n",
    "import pandas as pd\n",
    "import numpy as np\n",
    "import matplotlib.pyplot as plt\n",
    "import time"
   ]
  },
  {
   "cell_type": "markdown",
   "metadata": {},
   "source": [
    "# Load the Datasets"
   ]
  },
  {
   "cell_type": "code",
   "execution_count": 5,
   "metadata": {},
   "outputs": [],
   "source": [
    "#load ADMISSIONS dataset\n",
    "admissions_data = pd.read_csv(r'C:\\Users\\pankt\\Final_Year\\ADMISSIONS.csv')\n"
   ]
  },
  {
   "cell_type": "markdown",
   "metadata": {},
   "source": [
    "# Load the Datasets"
   ]
  },
  {
   "cell_type": "code",
   "execution_count": 6,
   "metadata": {},
   "outputs": [
    {
     "data": {
      "text/plain": [
       "(58976, 19)"
      ]
     },
     "execution_count": 6,
     "metadata": {},
     "output_type": "execute_result"
    }
   ],
   "source": [
    "# Exploring data in admissions table\n",
    "admissions_data.shape"
   ]
  },
  {
   "cell_type": "code",
   "execution_count": 7,
   "metadata": {},
   "outputs": [
    {
     "data": {
      "text/plain": [
       "EMERGENCY    42071\n",
       "NEWBORN       7863\n",
       "ELECTIVE      7706\n",
       "URGENT        1336\n",
       "Name: ADMISSION_TYPE, dtype: int64"
      ]
     },
     "execution_count": 7,
     "metadata": {},
     "output_type": "execute_result"
    }
   ],
   "source": [
    "# to explore categories of ADMISSION_TYPE column\n",
    "admissions_data['ADMISSION_TYPE'].value_counts()"
   ]
  },
  {
   "cell_type": "code",
   "execution_count": 8,
   "metadata": {},
   "outputs": [],
   "source": [
    "# Remove New Born admissions from dataset\n",
    "admissions_data = admissions_data.loc[admissions_data.ADMISSION_TYPE != 'NEWBORN']"
   ]
  },
  {
   "cell_type": "code",
   "execution_count": 9,
   "metadata": {},
   "outputs": [
    {
     "data": {
      "text/plain": [
       "EMERGENCY    42071\n",
       "ELECTIVE      7706\n",
       "URGENT        1336\n",
       "Name: ADMISSION_TYPE, dtype: int64"
      ]
     },
     "execution_count": 9,
     "metadata": {},
     "output_type": "execute_result"
    }
   ],
   "source": [
    "# to explore categories of ADMISSION_TYPE column, to make sure NEWBORN is removed\n",
    "admissions_data['ADMISSION_TYPE'].value_counts()"
   ]
  },
  {
   "cell_type": "code",
   "execution_count": 10,
   "metadata": {},
   "outputs": [
    {
     "name": "stdout",
     "output_type": "stream",
     "text": [
      "total admissions died: 5792\n",
      "HADM_ID list total: 5792\n"
     ]
    }
   ],
   "source": [
    "#to remove death admissions\n",
    "\n",
    "hadm_rows_death = admissions_data.loc[admissions_data.DEATHTIME.notnull()]\n",
    "print(\"total admissions died:\", len(hadm_rows_death))\n",
    "\n",
    "# store hadm_id for dead patients in a list\n",
    "hadm_death_list = list(hadm_rows_death[\"HADM_ID\"])\n",
    "\n",
    "print(\"HADM_ID list total:\", len(hadm_death_list))"
   ]
  },
  {
   "cell_type": "code",
   "execution_count": 11,
   "metadata": {},
   "outputs": [],
   "source": [
    "#remove death admissions\n",
    "admissions_data = admissions_data.loc[admissions_data.DEATHTIME.isnull()]"
   ]
  },
  {
   "cell_type": "code",
   "execution_count": 12,
   "metadata": {},
   "outputs": [
    {
     "name": "stdout",
     "output_type": "stream",
     "text": [
      "shape of admission table: (45321, 19)\n",
      "total number of live admissions: 45321\n"
     ]
    }
   ],
   "source": [
    "# to ensure rows with specific deathtime are removed\n",
    "print('shape of admission table:', admissions_data.shape)\n",
    "print('total number of live admissions:', admissions_data.DEATHTIME.isnull().count())\n"
   ]
  },
  {
   "cell_type": "code",
   "execution_count": 13,
   "metadata": {},
   "outputs": [
    {
     "name": "stdout",
     "output_type": "stream",
     "text": [
      "total null admissions dates: 45321\n",
      "total null discharge dates: 45321\n"
     ]
    }
   ],
   "source": [
    "#convert date strings format to datetime format \n",
    "\n",
    "admissions_data.ADMITTIME = pd.to_datetime(admissions_data.ADMITTIME, format = '%Y-%m-%d %H:%M:%S', errors = 'coerce')\n",
    "admissions_data.DISCHTIME = pd.to_datetime(admissions_data.DISCHTIME, format = '%Y-%m-%d %H:%M:%S', errors = 'coerce')\n",
    "admissions_data.DEATHTIME = pd.to_datetime(admissions_data.DEATHTIME, format = '%Y-%m-%d %H:%M:%S', errors = 'coerce')\n",
    "\n",
    "#to count and check null dates fields\n",
    "print('total null admissions dates:', admissions_data.ADMITTIME.isnull().count())\n",
    "print('total null discharge dates:', admissions_data.DISCHTIME.isnull().count())"
   ]
  },
  {
   "cell_type": "code",
   "execution_count": 14,
   "metadata": {},
   "outputs": [],
   "source": [
    "#to sort values according to subject_id and admittime\n",
    "admissions_data = admissions_data.sort_values(['SUBJECT_ID','ADMITTIME'])\n",
    "#drop is added to prevent old index used as column\n",
    "#new sequential index is used by resetting the index\n",
    "admissions_data = admissions_data.reset_index(drop = True)"
   ]
  },
  {
   "cell_type": "code",
   "execution_count": 15,
   "metadata": {},
   "outputs": [],
   "source": [
    "#create next_admittime and next_admission type columns to calculate number of days gap between 2 admits\n",
    "admissions_data['NEXT_ADMITTIME'] = admissions_data.groupby('SUBJECT_ID').ADMITTIME.shift(-1)\n",
    "\n",
    "# to create a column that holds the 'next admission type' for each subject\n",
    "admissions_data['NEXT_ADMISSION_TYPE'] = admissions_data.groupby('SUBJECT_ID').ADMISSION_TYPE.shift(-1)"
   ]
  },
  {
   "cell_type": "code",
   "execution_count": 16,
   "metadata": {},
   "outputs": [],
   "source": [
    "#remove entries with next admission type as elective\n",
    "#as we are considering only urgent and emergency next admit type to calculate readmissions\n",
    "rows = admissions_data.NEXT_ADMISSION_TYPE == 'ELECTIVE'\n",
    "admissions_data.loc[rows,'NEXT_ADMITTIME'] = pd.NaT\n",
    "admissions_data.loc[rows,'NEXT_ADMISSION_TYPE'] = np.NaN"
   ]
  },
  {
   "cell_type": "code",
   "execution_count": 17,
   "metadata": {},
   "outputs": [],
   "source": [
    "#again sort values according to subject id and admittime\n",
    "admissions_data = admissions_data.sort_values(['SUBJECT_ID','ADMITTIME'])\n",
    "# back fill data\n",
    "admissions_data[['NEXT_ADMITTIME','NEXT_ADMISSION_TYPE']] = admissions_data.groupby(['SUBJECT_ID'])[['NEXT_ADMITTIME','NEXT_ADMISSION_TYPE']].fillna(method = 'bfill')"
   ]
  },
  {
   "cell_type": "code",
   "execution_count": 18,
   "metadata": {},
   "outputs": [],
   "source": [
    "# calculate days between 2 consecutive admits\n",
    "admissions_data['DAYS_BETWEEN_ADMITS'] = (admissions_data.NEXT_ADMITTIME - admissions_data.DISCHTIME).dt.total_seconds()/(24*60*60) "
   ]
  },
  {
   "cell_type": "code",
   "execution_count": 19,
   "metadata": {},
   "outputs": [
    {
     "data": {
      "text/plain": [
       "45321"
      ]
     },
     "execution_count": 19,
     "metadata": {},
     "output_type": "execute_result"
    }
   ],
   "source": [
    "#print HADM_ID list\n",
    "len(list(admissions_data['HADM_ID']))"
   ]
  },
  {
   "cell_type": "code",
   "execution_count": 20,
   "metadata": {},
   "outputs": [
    {
     "data": {
      "text/plain": [
       "EMERGENCY    9561\n",
       "URGENT        144\n",
       "Name: NEXT_ADMISSION_TYPE, dtype: int64"
      ]
     },
     "execution_count": 20,
     "metadata": {},
     "output_type": "execute_result"
    }
   ],
   "source": [
    "#to count admissions category in next_admission_type column\n",
    "admissions_data['NEXT_ADMISSION_TYPE'].value_counts()"
   ]
  },
  {
   "cell_type": "code",
   "execution_count": 21,
   "metadata": {},
   "outputs": [
    {
     "data": {
      "text/plain": [
       "9705"
      ]
     },
     "execution_count": 21,
     "metadata": {},
     "output_type": "execute_result"
    }
   ],
   "source": [
    "#count data in next_admission_type column\n",
    "admissions_data['NEXT_ADMISSION_TYPE'].count()"
   ]
  },
  {
   "cell_type": "code",
   "execution_count": 22,
   "metadata": {},
   "outputs": [
    {
     "data": {
      "text/plain": [
       "True     35616\n",
       "False     9705\n",
       "Name: DAYS_BETWEEN_ADMITS, dtype: int64"
      ]
     },
     "execution_count": 22,
     "metadata": {},
     "output_type": "execute_result"
    }
   ],
   "source": [
    "#to check count of null values under days_till_next_admit column\n",
    "pd.isnull(admissions_data.DAYS_BETWEEN_ADMITS).value_counts()"
   ]
  },
  {
   "cell_type": "code",
   "execution_count": 23,
   "metadata": {},
   "outputs": [
    {
     "name": "stderr",
     "output_type": "stream",
     "text": [
      "C:\\Users\\pankt\\anaconda_3\\lib\\site-packages\\IPython\\core\\interactiveshell.py:3063: DtypeWarning: Columns (4,5) have mixed types.Specify dtype option on import or set low_memory=False.\n",
      "  interactivity=interactivity, compiler=compiler, result=result)\n"
     ]
    }
   ],
   "source": [
    "#load NOTEEVENTS.csv\n",
    "noteevents_data = pd.read_csv(\"NOTEEVENTS.csv\")"
   ]
  },
  {
   "cell_type": "code",
   "execution_count": 24,
   "metadata": {},
   "outputs": [
    {
     "data": {
      "text/plain": [
       "231836"
      ]
     },
     "execution_count": 24,
     "metadata": {},
     "output_type": "execute_result"
    }
   ],
   "source": [
    "#to check the lists where HADM_ID is null\n",
    "sum(list(noteevents_data.HADM_ID.isnull()))"
   ]
  },
  {
   "cell_type": "code",
   "execution_count": 25,
   "metadata": {},
   "outputs": [
    {
     "data": {
      "text/html": [
       "<div>\n",
       "<style scoped>\n",
       "    .dataframe tbody tr th:only-of-type {\n",
       "        vertical-align: middle;\n",
       "    }\n",
       "\n",
       "    .dataframe tbody tr th {\n",
       "        vertical-align: top;\n",
       "    }\n",
       "\n",
       "    .dataframe thead th {\n",
       "        text-align: right;\n",
       "    }\n",
       "</style>\n",
       "<table border=\"1\" class=\"dataframe\">\n",
       "  <thead>\n",
       "    <tr style=\"text-align: right;\">\n",
       "      <th></th>\n",
       "      <th>ROW_ID</th>\n",
       "      <th>SUBJECT_ID</th>\n",
       "      <th>HADM_ID</th>\n",
       "      <th>CHARTDATE</th>\n",
       "      <th>CHARTTIME</th>\n",
       "      <th>STORETIME</th>\n",
       "      <th>CATEGORY</th>\n",
       "      <th>DESCRIPTION</th>\n",
       "      <th>CGID</th>\n",
       "      <th>ISERROR</th>\n",
       "      <th>TEXT</th>\n",
       "    </tr>\n",
       "  </thead>\n",
       "  <tbody>\n",
       "    <tr>\n",
       "      <th>0</th>\n",
       "      <td>174</td>\n",
       "      <td>22532</td>\n",
       "      <td>167853.0</td>\n",
       "      <td>2151-08-04</td>\n",
       "      <td>NaN</td>\n",
       "      <td>NaN</td>\n",
       "      <td>Discharge summary</td>\n",
       "      <td>Report</td>\n",
       "      <td>NaN</td>\n",
       "      <td>NaN</td>\n",
       "      <td>Admission Date:  [**2151-7-16**]       Dischar...</td>\n",
       "    </tr>\n",
       "    <tr>\n",
       "      <th>1</th>\n",
       "      <td>175</td>\n",
       "      <td>13702</td>\n",
       "      <td>107527.0</td>\n",
       "      <td>2118-06-14</td>\n",
       "      <td>NaN</td>\n",
       "      <td>NaN</td>\n",
       "      <td>Discharge summary</td>\n",
       "      <td>Report</td>\n",
       "      <td>NaN</td>\n",
       "      <td>NaN</td>\n",
       "      <td>Admission Date:  [**2118-6-2**]       Discharg...</td>\n",
       "    </tr>\n",
       "    <tr>\n",
       "      <th>2</th>\n",
       "      <td>176</td>\n",
       "      <td>13702</td>\n",
       "      <td>167118.0</td>\n",
       "      <td>2119-05-25</td>\n",
       "      <td>NaN</td>\n",
       "      <td>NaN</td>\n",
       "      <td>Discharge summary</td>\n",
       "      <td>Report</td>\n",
       "      <td>NaN</td>\n",
       "      <td>NaN</td>\n",
       "      <td>Admission Date:  [**2119-5-4**]              D...</td>\n",
       "    </tr>\n",
       "    <tr>\n",
       "      <th>3</th>\n",
       "      <td>177</td>\n",
       "      <td>13702</td>\n",
       "      <td>196489.0</td>\n",
       "      <td>2124-08-18</td>\n",
       "      <td>NaN</td>\n",
       "      <td>NaN</td>\n",
       "      <td>Discharge summary</td>\n",
       "      <td>Report</td>\n",
       "      <td>NaN</td>\n",
       "      <td>NaN</td>\n",
       "      <td>Admission Date:  [**2124-7-21**]              ...</td>\n",
       "    </tr>\n",
       "    <tr>\n",
       "      <th>4</th>\n",
       "      <td>178</td>\n",
       "      <td>26880</td>\n",
       "      <td>135453.0</td>\n",
       "      <td>2162-03-25</td>\n",
       "      <td>NaN</td>\n",
       "      <td>NaN</td>\n",
       "      <td>Discharge summary</td>\n",
       "      <td>Report</td>\n",
       "      <td>NaN</td>\n",
       "      <td>NaN</td>\n",
       "      <td>Admission Date:  [**2162-3-3**]              D...</td>\n",
       "    </tr>\n",
       "  </tbody>\n",
       "</table>\n",
       "</div>"
      ],
      "text/plain": [
       "   ROW_ID  SUBJECT_ID   HADM_ID   CHARTDATE CHARTTIME STORETIME  \\\n",
       "0     174       22532  167853.0  2151-08-04       NaN       NaN   \n",
       "1     175       13702  107527.0  2118-06-14       NaN       NaN   \n",
       "2     176       13702  167118.0  2119-05-25       NaN       NaN   \n",
       "3     177       13702  196489.0  2124-08-18       NaN       NaN   \n",
       "4     178       26880  135453.0  2162-03-25       NaN       NaN   \n",
       "\n",
       "            CATEGORY DESCRIPTION  CGID  ISERROR  \\\n",
       "0  Discharge summary      Report   NaN      NaN   \n",
       "1  Discharge summary      Report   NaN      NaN   \n",
       "2  Discharge summary      Report   NaN      NaN   \n",
       "3  Discharge summary      Report   NaN      NaN   \n",
       "4  Discharge summary      Report   NaN      NaN   \n",
       "\n",
       "                                                TEXT  \n",
       "0  Admission Date:  [**2151-7-16**]       Dischar...  \n",
       "1  Admission Date:  [**2118-6-2**]       Discharg...  \n",
       "2  Admission Date:  [**2119-5-4**]              D...  \n",
       "3  Admission Date:  [**2124-7-21**]              ...  \n",
       "4  Admission Date:  [**2162-3-3**]              D...  "
      ]
     },
     "execution_count": 25,
     "metadata": {},
     "output_type": "execute_result"
    }
   ],
   "source": [
    "#exploring noteevents dataset\n",
    "noteevents_data.head()"
   ]
  },
  {
   "cell_type": "code",
   "execution_count": 26,
   "metadata": {},
   "outputs": [
    {
     "data": {
      "text/html": [
       "<div>\n",
       "<style scoped>\n",
       "    .dataframe tbody tr th:only-of-type {\n",
       "        vertical-align: middle;\n",
       "    }\n",
       "\n",
       "    .dataframe tbody tr th {\n",
       "        vertical-align: top;\n",
       "    }\n",
       "\n",
       "    .dataframe thead th {\n",
       "        text-align: right;\n",
       "    }\n",
       "</style>\n",
       "<table border=\"1\" class=\"dataframe\">\n",
       "  <thead>\n",
       "    <tr style=\"text-align: right;\">\n",
       "      <th></th>\n",
       "      <th>ROW_ID</th>\n",
       "      <th>SUBJECT_ID</th>\n",
       "      <th>HADM_ID</th>\n",
       "      <th>CHARTDATE</th>\n",
       "      <th>CHARTTIME</th>\n",
       "      <th>STORETIME</th>\n",
       "      <th>CATEGORY</th>\n",
       "      <th>DESCRIPTION</th>\n",
       "      <th>CGID</th>\n",
       "      <th>ISERROR</th>\n",
       "      <th>TEXT</th>\n",
       "    </tr>\n",
       "  </thead>\n",
       "  <tbody>\n",
       "    <tr>\n",
       "      <th>0</th>\n",
       "      <td>174</td>\n",
       "      <td>22532</td>\n",
       "      <td>167853.0</td>\n",
       "      <td>2151-08-04</td>\n",
       "      <td>NaN</td>\n",
       "      <td>NaN</td>\n",
       "      <td>Discharge summary</td>\n",
       "      <td>Report</td>\n",
       "      <td>NaN</td>\n",
       "      <td>NaN</td>\n",
       "      <td>Admission Date:  [**2151-7-16**]       Dischar...</td>\n",
       "    </tr>\n",
       "    <tr>\n",
       "      <th>1</th>\n",
       "      <td>175</td>\n",
       "      <td>13702</td>\n",
       "      <td>107527.0</td>\n",
       "      <td>2118-06-14</td>\n",
       "      <td>NaN</td>\n",
       "      <td>NaN</td>\n",
       "      <td>Discharge summary</td>\n",
       "      <td>Report</td>\n",
       "      <td>NaN</td>\n",
       "      <td>NaN</td>\n",
       "      <td>Admission Date:  [**2118-6-2**]       Discharg...</td>\n",
       "    </tr>\n",
       "    <tr>\n",
       "      <th>2</th>\n",
       "      <td>176</td>\n",
       "      <td>13702</td>\n",
       "      <td>167118.0</td>\n",
       "      <td>2119-05-25</td>\n",
       "      <td>NaN</td>\n",
       "      <td>NaN</td>\n",
       "      <td>Discharge summary</td>\n",
       "      <td>Report</td>\n",
       "      <td>NaN</td>\n",
       "      <td>NaN</td>\n",
       "      <td>Admission Date:  [**2119-5-4**]              D...</td>\n",
       "    </tr>\n",
       "    <tr>\n",
       "      <th>3</th>\n",
       "      <td>177</td>\n",
       "      <td>13702</td>\n",
       "      <td>196489.0</td>\n",
       "      <td>2124-08-18</td>\n",
       "      <td>NaN</td>\n",
       "      <td>NaN</td>\n",
       "      <td>Discharge summary</td>\n",
       "      <td>Report</td>\n",
       "      <td>NaN</td>\n",
       "      <td>NaN</td>\n",
       "      <td>Admission Date:  [**2124-7-21**]              ...</td>\n",
       "    </tr>\n",
       "    <tr>\n",
       "      <th>4</th>\n",
       "      <td>178</td>\n",
       "      <td>26880</td>\n",
       "      <td>135453.0</td>\n",
       "      <td>2162-03-25</td>\n",
       "      <td>NaN</td>\n",
       "      <td>NaN</td>\n",
       "      <td>Discharge summary</td>\n",
       "      <td>Report</td>\n",
       "      <td>NaN</td>\n",
       "      <td>NaN</td>\n",
       "      <td>Admission Date:  [**2162-3-3**]              D...</td>\n",
       "    </tr>\n",
       "  </tbody>\n",
       "</table>\n",
       "</div>"
      ],
      "text/plain": [
       "   ROW_ID  SUBJECT_ID   HADM_ID   CHARTDATE CHARTTIME STORETIME  \\\n",
       "0     174       22532  167853.0  2151-08-04       NaN       NaN   \n",
       "1     175       13702  107527.0  2118-06-14       NaN       NaN   \n",
       "2     176       13702  167118.0  2119-05-25       NaN       NaN   \n",
       "3     177       13702  196489.0  2124-08-18       NaN       NaN   \n",
       "4     178       26880  135453.0  2162-03-25       NaN       NaN   \n",
       "\n",
       "            CATEGORY DESCRIPTION  CGID  ISERROR  \\\n",
       "0  Discharge summary      Report   NaN      NaN   \n",
       "1  Discharge summary      Report   NaN      NaN   \n",
       "2  Discharge summary      Report   NaN      NaN   \n",
       "3  Discharge summary      Report   NaN      NaN   \n",
       "4  Discharge summary      Report   NaN      NaN   \n",
       "\n",
       "                                                TEXT  \n",
       "0  Admission Date:  [**2151-7-16**]       Dischar...  \n",
       "1  Admission Date:  [**2118-6-2**]       Discharg...  \n",
       "2  Admission Date:  [**2119-5-4**]              D...  \n",
       "3  Admission Date:  [**2124-7-21**]              ...  \n",
       "4  Admission Date:  [**2162-3-3**]              D...  "
      ]
     },
     "execution_count": 26,
     "metadata": {},
     "output_type": "execute_result"
    }
   ],
   "source": [
    "#to check with hadm_id list and remove death admissions \n",
    "noteevents_data = noteevents_data[~noteevents_data['HADM_ID'].isin(hadm_death_list)]\n",
    "# print df_notes after removing deaths\n",
    "noteevents_data.head()"
   ]
  },
  {
   "cell_type": "code",
   "execution_count": 27,
   "metadata": {},
   "outputs": [
    {
     "name": "stdout",
     "output_type": "stream",
     "text": [
      "shape of data after deaths removed: (1841968, 11)\n"
     ]
    }
   ],
   "source": [
    "# print shape of noteevents data after deaths are removed\n",
    "print('shape of data after deaths removed:', noteevents_data.shape)"
   ]
  },
  {
   "cell_type": "code",
   "execution_count": 28,
   "metadata": {},
   "outputs": [],
   "source": [
    "#convert string format to date format\n",
    "noteevents_data.CHARTDATE = pd.to_datetime(noteevents_data.CHARTDATE, format = '%Y-%m-%d', errors = 'coerce')\n",
    "noteevents_data.CHARTTIME = pd.to_datetime(noteevents_data.CHARTTIME, format = '%Y-%m-%d %H:%M:%S', errors = 'coerce')"
   ]
  },
  {
   "cell_type": "code",
   "execution_count": 29,
   "metadata": {},
   "outputs": [],
   "source": [
    "# sort values and provide new index to noteevents data\n",
    "noteevents_data = noteevents_data.sort_values(['SUBJECT_ID','CHARTDATE', 'CHARTTIME'])\n",
    "noteevents_data = noteevents_data.reset_index(drop = True)"
   ]
  },
  {
   "cell_type": "code",
   "execution_count": 30,
   "metadata": {},
   "outputs": [
    {
     "data": {
      "text/html": [
       "<div>\n",
       "<style scoped>\n",
       "    .dataframe tbody tr th:only-of-type {\n",
       "        vertical-align: middle;\n",
       "    }\n",
       "\n",
       "    .dataframe tbody tr th {\n",
       "        vertical-align: top;\n",
       "    }\n",
       "\n",
       "    .dataframe thead th {\n",
       "        text-align: right;\n",
       "    }\n",
       "</style>\n",
       "<table border=\"1\" class=\"dataframe\">\n",
       "  <thead>\n",
       "    <tr style=\"text-align: right;\">\n",
       "      <th></th>\n",
       "      <th>SUBJECT_ID</th>\n",
       "      <th>HADM_ID</th>\n",
       "      <th>CHARTDATE</th>\n",
       "      <th>CHARTTIME</th>\n",
       "      <th>TEXT</th>\n",
       "    </tr>\n",
       "  </thead>\n",
       "  <tbody>\n",
       "    <tr>\n",
       "      <th>0</th>\n",
       "      <td>2</td>\n",
       "      <td>163353.0</td>\n",
       "      <td>2138-07-17</td>\n",
       "      <td>2138-07-17 22:51:00</td>\n",
       "      <td>Neonatology Attending Triage Note\\n\\nBaby [**N...</td>\n",
       "    </tr>\n",
       "    <tr>\n",
       "      <th>1</th>\n",
       "      <td>2</td>\n",
       "      <td>163353.0</td>\n",
       "      <td>2138-07-17</td>\n",
       "      <td>2138-07-17 23:08:00</td>\n",
       "      <td>Nursing Transfer note\\n\\n\\nPt admitted to NICU...</td>\n",
       "    </tr>\n",
       "    <tr>\n",
       "      <th>2</th>\n",
       "      <td>3</td>\n",
       "      <td>NaN</td>\n",
       "      <td>2101-10-06</td>\n",
       "      <td>2101-10-06 18:02:00</td>\n",
       "      <td>[**2101-10-6**] 6:02 PM\\n CHEST (PORTABLE AP) ...</td>\n",
       "    </tr>\n",
       "    <tr>\n",
       "      <th>3</th>\n",
       "      <td>3</td>\n",
       "      <td>NaN</td>\n",
       "      <td>2101-10-06</td>\n",
       "      <td>NaT</td>\n",
       "      <td>Sinus rhythm\\nInferior/lateral ST-T changes ar...</td>\n",
       "    </tr>\n",
       "    <tr>\n",
       "      <th>4</th>\n",
       "      <td>3</td>\n",
       "      <td>NaN</td>\n",
       "      <td>2101-10-11</td>\n",
       "      <td>2101-10-11 21:06:00</td>\n",
       "      <td>[**2101-10-11**] 9:06 PM\\n CHEST (PRE-OP PA &amp; ...</td>\n",
       "    </tr>\n",
       "  </tbody>\n",
       "</table>\n",
       "</div>"
      ],
      "text/plain": [
       "   SUBJECT_ID   HADM_ID  CHARTDATE           CHARTTIME  \\\n",
       "0           2  163353.0 2138-07-17 2138-07-17 22:51:00   \n",
       "1           2  163353.0 2138-07-17 2138-07-17 23:08:00   \n",
       "2           3       NaN 2101-10-06 2101-10-06 18:02:00   \n",
       "3           3       NaN 2101-10-06                 NaT   \n",
       "4           3       NaN 2101-10-11 2101-10-11 21:06:00   \n",
       "\n",
       "                                                TEXT  \n",
       "0  Neonatology Attending Triage Note\\n\\nBaby [**N...  \n",
       "1  Nursing Transfer note\\n\\n\\nPt admitted to NICU...  \n",
       "2  [**2101-10-6**] 6:02 PM\\n CHEST (PORTABLE AP) ...  \n",
       "3  Sinus rhythm\\nInferior/lateral ST-T changes ar...  \n",
       "4  [**2101-10-11**] 9:06 PM\\n CHEST (PRE-OP PA & ...  "
      ]
     },
     "execution_count": 30,
     "metadata": {},
     "output_type": "execute_result"
    }
   ],
   "source": [
    "# explore noteevents data after removing unwanted columns\n",
    "noteevents_data[['SUBJECT_ID', 'HADM_ID', 'CHARTDATE', 'CHARTTIME', 'TEXT']].head()"
   ]
  },
  {
   "cell_type": "code",
   "execution_count": 31,
   "metadata": {},
   "outputs": [],
   "source": [
    "# filter the data for DISHCHARGE SUMMARIES for further prediction\n",
    "notes_discharge_summary = noteevents_data.loc[noteevents_data.CATEGORY == 'Discharge summary']"
   ]
  },
  {
   "cell_type": "code",
   "execution_count": 32,
   "metadata": {},
   "outputs": [],
   "source": [
    "# consider only one admission entry per HADM_ID\n",
    "notes_discharge_summary_unique = (notes_discharge_summary.groupby(['SUBJECT_ID','HADM_ID']).nth(-1)).reset_index()\n",
    "assert notes_discharge_summary_unique.duplicated(['HADM_ID']).sum() == 0, 'Multiple discharge summaries per admission'"
   ]
  },
  {
   "cell_type": "markdown",
   "metadata": {},
   "source": [
    "# Merge ADMISSIONS and NOTEEVENTS datasets"
   ]
  },
  {
   "cell_type": "code",
   "execution_count": 33,
   "metadata": {},
   "outputs": [],
   "source": [
    "# merge 2 datasets and prepare data for further steps \n",
    "adm_notes_data = pd.merge(admissions_data[['SUBJECT_ID','HADM_ID','ADMITTIME','DISCHTIME','DAYS_BETWEEN_ADMITS','NEXT_ADMITTIME','ADMISSION_TYPE','DEATHTIME']],\n",
    "                        notes_discharge_summary_unique[['SUBJECT_ID','HADM_ID','TEXT']], \n",
    "                        on = ['SUBJECT_ID','HADM_ID'],\n",
    "                        how = 'left')\n",
    "assert len(admissions_data) == len(adm_notes_data), 'Number of rows increased'"
   ]
  },
  {
   "cell_type": "code",
   "execution_count": 34,
   "metadata": {},
   "outputs": [
    {
     "data": {
      "text/plain": [
       "ADMISSION_TYPE\n",
       "ELECTIVE     0.048076\n",
       "EMERGENCY    0.028550\n",
       "URGENT       0.028936\n",
       "dtype: float64"
      ]
     },
     "execution_count": 34,
     "metadata": {},
     "output_type": "execute_result"
    }
   ],
   "source": [
    "#groupby the data according to admission_type column\n",
    "adm_notes_data.groupby('ADMISSION_TYPE').apply(lambda g: g.TEXT.isnull().sum())/adm_notes_data.groupby('ADMISSION_TYPE').size()"
   ]
  },
  {
   "cell_type": "code",
   "execution_count": 35,
   "metadata": {},
   "outputs": [],
   "source": [
    "# create output_label based on readmissions done within 30 days of discharge\n",
    "adm_notes_data['OUTPUT_LABEL'] = (adm_notes_data.DAYS_BETWEEN_ADMITS < 30).astype('int')"
   ]
  },
  {
   "cell_type": "code",
   "execution_count": 36,
   "metadata": {},
   "outputs": [
    {
     "name": "stdout",
     "output_type": "stream",
     "text": [
      "   SUBJECT_ID  HADM_ID           ADMITTIME           DISCHTIME  \\\n",
      "0           3   145834 2101-10-20 19:08:00 2101-10-31 13:58:00   \n",
      "1           4   185777 2191-03-16 00:28:00 2191-03-23 18:41:00   \n",
      "2           6   107064 2175-05-30 07:15:00 2175-06-15 16:00:00   \n",
      "3          11   194540 2178-04-16 06:18:00 2178-05-11 19:00:00   \n",
      "4          13   143045 2167-01-08 18:43:00 2167-01-15 15:15:00   \n",
      "\n",
      "   DAYS_BETWEEN_ADMITS NEXT_ADMITTIME ADMISSION_TYPE DEATHTIME  \\\n",
      "0                  NaN            NaT      EMERGENCY       NaT   \n",
      "1                  NaN            NaT      EMERGENCY       NaT   \n",
      "2                  NaN            NaT       ELECTIVE       NaT   \n",
      "3                  NaN            NaT      EMERGENCY       NaT   \n",
      "4                  NaN            NaT      EMERGENCY       NaT   \n",
      "\n",
      "                                                TEXT  OUTPUT_LABEL  \n",
      "0  Admission Date:  [**2101-10-20**]     Discharg...             0  \n",
      "1  Admission Date:  [**2191-3-16**]     Discharge...             0  \n",
      "2  Admission Date: [**2175-5-30**]        Dischar...             0  \n",
      "3  Admission Date:  [**2178-4-16**]              ...             0  \n",
      "4  Name:  [**Known lastname 9900**], [**Known fir...             0  \n"
     ]
    }
   ],
   "source": [
    "#showcase the merged dataset\n",
    "print(adm_notes_data.head())"
   ]
  },
  {
   "cell_type": "code",
   "execution_count": 37,
   "metadata": {},
   "outputs": [
    {
     "data": {
      "text/plain": [
       "(45321, 10)"
      ]
     },
     "execution_count": 37,
     "metadata": {},
     "output_type": "execute_result"
    }
   ],
   "source": [
    "#print shape of merged data\n",
    "adm_notes_data.shape"
   ]
  },
  {
   "cell_type": "code",
   "execution_count": 38,
   "metadata": {},
   "outputs": [
    {
     "data": {
      "text/plain": [
       "0       NaT\n",
       "1       NaT\n",
       "2       NaT\n",
       "3       NaT\n",
       "4       NaT\n",
       "         ..\n",
       "45316   NaT\n",
       "45317   NaT\n",
       "45318   NaT\n",
       "45319   NaT\n",
       "45320   NaT\n",
       "Name: DEATHTIME, Length: 45321, dtype: datetime64[ns]"
      ]
     },
     "execution_count": 38,
     "metadata": {},
     "output_type": "execute_result"
    }
   ],
   "source": [
    "# check if all the entries under DEATHTIME column is NULL\n",
    "adm_notes_data['DEATHTIME']"
   ]
  },
  {
   "cell_type": "code",
   "execution_count": 39,
   "metadata": {},
   "outputs": [],
   "source": [
    "# drop unwanted deathtime column\n",
    "adm_notes_data.drop('DEATHTIME',inplace=True, axis=1)"
   ]
  },
  {
   "cell_type": "code",
   "execution_count": 40,
   "metadata": {},
   "outputs": [
    {
     "name": "stdout",
     "output_type": "stream",
     "text": [
      "0    42772\n",
      "1     2549\n",
      "Name: OUTPUT_LABEL, dtype: int64\n"
     ]
    }
   ],
   "source": [
    "# to check how many readmissions were under 30 days, 1 represents readmissions were under 30 days\n",
    "print(adm_notes_data['OUTPUT_LABEL'].value_counts())"
   ]
  },
  {
   "cell_type": "code",
   "execution_count": 41,
   "metadata": {},
   "outputs": [
    {
     "data": {
      "text/plain": [
       "(45321, 9)"
      ]
     },
     "execution_count": 41,
     "metadata": {},
     "output_type": "execute_result"
    }
   ],
   "source": [
    "# dimension of merged dataset\n",
    "adm_notes_data.shape"
   ]
  },
  {
   "cell_type": "code",
   "execution_count": 42,
   "metadata": {
    "scrolled": true
   },
   "outputs": [
    {
     "data": {
      "text/html": [
       "<div>\n",
       "<style scoped>\n",
       "    .dataframe tbody tr th:only-of-type {\n",
       "        vertical-align: middle;\n",
       "    }\n",
       "\n",
       "    .dataframe tbody tr th {\n",
       "        vertical-align: top;\n",
       "    }\n",
       "\n",
       "    .dataframe thead th {\n",
       "        text-align: right;\n",
       "    }\n",
       "</style>\n",
       "<table border=\"1\" class=\"dataframe\">\n",
       "  <thead>\n",
       "    <tr style=\"text-align: right;\">\n",
       "      <th></th>\n",
       "      <th>SUBJECT_ID</th>\n",
       "      <th>HADM_ID</th>\n",
       "      <th>ADMITTIME</th>\n",
       "      <th>DISCHTIME</th>\n",
       "      <th>DAYS_BETWEEN_ADMITS</th>\n",
       "      <th>NEXT_ADMITTIME</th>\n",
       "      <th>ADMISSION_TYPE</th>\n",
       "      <th>TEXT</th>\n",
       "    </tr>\n",
       "  </thead>\n",
       "  <tbody>\n",
       "    <tr>\n",
       "      <th>0</th>\n",
       "      <td>3</td>\n",
       "      <td>145834</td>\n",
       "      <td>2101-10-20 19:08:00</td>\n",
       "      <td>2101-10-31 13:58:00</td>\n",
       "      <td>NaN</td>\n",
       "      <td>NaT</td>\n",
       "      <td>EMERGENCY</td>\n",
       "      <td>Admission Date:  [**2101-10-20**]     Discharg...</td>\n",
       "    </tr>\n",
       "    <tr>\n",
       "      <th>1</th>\n",
       "      <td>4</td>\n",
       "      <td>185777</td>\n",
       "      <td>2191-03-16 00:28:00</td>\n",
       "      <td>2191-03-23 18:41:00</td>\n",
       "      <td>NaN</td>\n",
       "      <td>NaT</td>\n",
       "      <td>EMERGENCY</td>\n",
       "      <td>Admission Date:  [**2191-3-16**]     Discharge...</td>\n",
       "    </tr>\n",
       "    <tr>\n",
       "      <th>2</th>\n",
       "      <td>6</td>\n",
       "      <td>107064</td>\n",
       "      <td>2175-05-30 07:15:00</td>\n",
       "      <td>2175-06-15 16:00:00</td>\n",
       "      <td>NaN</td>\n",
       "      <td>NaT</td>\n",
       "      <td>ELECTIVE</td>\n",
       "      <td>Admission Date: [**2175-5-30**]        Dischar...</td>\n",
       "    </tr>\n",
       "    <tr>\n",
       "      <th>3</th>\n",
       "      <td>11</td>\n",
       "      <td>194540</td>\n",
       "      <td>2178-04-16 06:18:00</td>\n",
       "      <td>2178-05-11 19:00:00</td>\n",
       "      <td>NaN</td>\n",
       "      <td>NaT</td>\n",
       "      <td>EMERGENCY</td>\n",
       "      <td>Admission Date:  [**2178-4-16**]              ...</td>\n",
       "    </tr>\n",
       "    <tr>\n",
       "      <th>4</th>\n",
       "      <td>13</td>\n",
       "      <td>143045</td>\n",
       "      <td>2167-01-08 18:43:00</td>\n",
       "      <td>2167-01-15 15:15:00</td>\n",
       "      <td>NaN</td>\n",
       "      <td>NaT</td>\n",
       "      <td>EMERGENCY</td>\n",
       "      <td>Name:  [**Known lastname 9900**], [**Known fir...</td>\n",
       "    </tr>\n",
       "    <tr>\n",
       "      <th>...</th>\n",
       "      <td>...</td>\n",
       "      <td>...</td>\n",
       "      <td>...</td>\n",
       "      <td>...</td>\n",
       "      <td>...</td>\n",
       "      <td>...</td>\n",
       "      <td>...</td>\n",
       "      <td>...</td>\n",
       "    </tr>\n",
       "    <tr>\n",
       "      <th>45316</th>\n",
       "      <td>99985</td>\n",
       "      <td>176670</td>\n",
       "      <td>2181-01-27 02:47:00</td>\n",
       "      <td>2181-02-12 17:05:00</td>\n",
       "      <td>NaN</td>\n",
       "      <td>NaT</td>\n",
       "      <td>EMERGENCY</td>\n",
       "      <td>Admission Date:  [**2181-1-27**]              ...</td>\n",
       "    </tr>\n",
       "    <tr>\n",
       "      <th>45317</th>\n",
       "      <td>99991</td>\n",
       "      <td>151118</td>\n",
       "      <td>2184-12-24 08:30:00</td>\n",
       "      <td>2185-01-05 12:15:00</td>\n",
       "      <td>NaN</td>\n",
       "      <td>NaT</td>\n",
       "      <td>ELECTIVE</td>\n",
       "      <td>Admission Date:  [**2184-12-24**]             ...</td>\n",
       "    </tr>\n",
       "    <tr>\n",
       "      <th>45318</th>\n",
       "      <td>99992</td>\n",
       "      <td>197084</td>\n",
       "      <td>2144-07-25 18:03:00</td>\n",
       "      <td>2144-07-28 17:56:00</td>\n",
       "      <td>NaN</td>\n",
       "      <td>NaT</td>\n",
       "      <td>EMERGENCY</td>\n",
       "      <td>Admission Date:  [**2144-7-25**]              ...</td>\n",
       "    </tr>\n",
       "    <tr>\n",
       "      <th>45319</th>\n",
       "      <td>99995</td>\n",
       "      <td>137810</td>\n",
       "      <td>2147-02-08 08:00:00</td>\n",
       "      <td>2147-02-11 13:15:00</td>\n",
       "      <td>NaN</td>\n",
       "      <td>NaT</td>\n",
       "      <td>ELECTIVE</td>\n",
       "      <td>Admission Date:  [**2147-2-8**]              D...</td>\n",
       "    </tr>\n",
       "    <tr>\n",
       "      <th>45320</th>\n",
       "      <td>99999</td>\n",
       "      <td>113369</td>\n",
       "      <td>2117-12-30 07:15:00</td>\n",
       "      <td>2118-01-04 16:30:00</td>\n",
       "      <td>NaN</td>\n",
       "      <td>NaT</td>\n",
       "      <td>ELECTIVE</td>\n",
       "      <td>Admission Date:  [**2117-12-30**]             ...</td>\n",
       "    </tr>\n",
       "  </tbody>\n",
       "</table>\n",
       "<p>45321 rows × 8 columns</p>\n",
       "</div>"
      ],
      "text/plain": [
       "       SUBJECT_ID  HADM_ID           ADMITTIME           DISCHTIME  \\\n",
       "0               3   145834 2101-10-20 19:08:00 2101-10-31 13:58:00   \n",
       "1               4   185777 2191-03-16 00:28:00 2191-03-23 18:41:00   \n",
       "2               6   107064 2175-05-30 07:15:00 2175-06-15 16:00:00   \n",
       "3              11   194540 2178-04-16 06:18:00 2178-05-11 19:00:00   \n",
       "4              13   143045 2167-01-08 18:43:00 2167-01-15 15:15:00   \n",
       "...           ...      ...                 ...                 ...   \n",
       "45316       99985   176670 2181-01-27 02:47:00 2181-02-12 17:05:00   \n",
       "45317       99991   151118 2184-12-24 08:30:00 2185-01-05 12:15:00   \n",
       "45318       99992   197084 2144-07-25 18:03:00 2144-07-28 17:56:00   \n",
       "45319       99995   137810 2147-02-08 08:00:00 2147-02-11 13:15:00   \n",
       "45320       99999   113369 2117-12-30 07:15:00 2118-01-04 16:30:00   \n",
       "\n",
       "       DAYS_BETWEEN_ADMITS NEXT_ADMITTIME ADMISSION_TYPE  \\\n",
       "0                      NaN            NaT      EMERGENCY   \n",
       "1                      NaN            NaT      EMERGENCY   \n",
       "2                      NaN            NaT       ELECTIVE   \n",
       "3                      NaN            NaT      EMERGENCY   \n",
       "4                      NaN            NaT      EMERGENCY   \n",
       "...                    ...            ...            ...   \n",
       "45316                  NaN            NaT      EMERGENCY   \n",
       "45317                  NaN            NaT       ELECTIVE   \n",
       "45318                  NaN            NaT      EMERGENCY   \n",
       "45319                  NaN            NaT       ELECTIVE   \n",
       "45320                  NaN            NaT       ELECTIVE   \n",
       "\n",
       "                                                    TEXT  \n",
       "0      Admission Date:  [**2101-10-20**]     Discharg...  \n",
       "1      Admission Date:  [**2191-3-16**]     Discharge...  \n",
       "2      Admission Date: [**2175-5-30**]        Dischar...  \n",
       "3      Admission Date:  [**2178-4-16**]              ...  \n",
       "4      Name:  [**Known lastname 9900**], [**Known fir...  \n",
       "...                                                  ...  \n",
       "45316  Admission Date:  [**2181-1-27**]              ...  \n",
       "45317  Admission Date:  [**2184-12-24**]             ...  \n",
       "45318  Admission Date:  [**2144-7-25**]              ...  \n",
       "45319  Admission Date:  [**2147-2-8**]              D...  \n",
       "45320  Admission Date:  [**2117-12-30**]             ...  \n",
       "\n",
       "[45321 rows x 8 columns]"
      ]
     },
     "execution_count": 42,
     "metadata": {},
     "output_type": "execute_result"
    }
   ],
   "source": [
    "# remove OUTPUT_LABEL for further breaking of dataset\n",
    "adm_notes_data.iloc[:,:-1]"
   ]
  },
  {
   "cell_type": "code",
   "execution_count": 43,
   "metadata": {},
   "outputs": [
    {
     "name": "stdout",
     "output_type": "stream",
     "text": [
      "Number of positive samples: 2549\n",
      "Number of negative samples: 42772\n",
      "Total samples: 45321\n"
     ]
    }
   ],
   "source": [
    "# print no of positive and negative samples\n",
    "print('Number of positive samples:', (adm_notes_data.OUTPUT_LABEL == 1).sum())\n",
    "print('Number of negative samples:',  (adm_notes_data.OUTPUT_LABEL == 0).sum())\n",
    "print('Total samples:', len(adm_notes_data))"
   ]
  },
  {
   "cell_type": "code",
   "execution_count": 115,
   "metadata": {},
   "outputs": [
    {
     "data": {
      "image/png": "[encoded data removed]",
      "text/plain": [
       "<Figure size 432x288 with 1 Axes>"
      ]
     },
     "metadata": {
      "needs_background": "light"
     },
     "output_type": "display_data"
    }
   ],
   "source": [
    "# compare base models \n",
    "df_results_data = pd.DataFrame({'Number of Readmissions':['Positive',\n",
    "                                         'Negative'],\n",
    "                        \n",
    "                           'data_set':['Count', 'Count'],\n",
    "                \n",
    "                          'Count':[(adm_notes_data.OUTPUT_LABEL == 1).sum(),\n",
    "                                      (adm_notes_data.OUTPUT_LABEL == 0).sum(),]\n",
    "                          })\n",
    "\n",
    "# showcase results in form of table\n",
    "df_results_data\n",
    "\n",
    "#create a histogram of the output\n",
    "ax = sns.barplot(x=\"Number of Readmissions\", y=\"Count\",hue = \"data_set\", data=df_results_data)\n",
    "ax.set_xlabel('Readmissions',fontsize = 15)\n",
    "ax.set_ylabel('Count', fontsize = 15)\n",
    "ax.tick_params(labelsize=15)\n",
    "# Put the legend out of the figure\n",
    "plt.legend(bbox_to_anchor=(1.05, 1), loc=2, borderaxespad=0., fontsize = 15)\n",
    "\n",
    "plt.show()"
   ]
  },
  {
   "cell_type": "code",
   "execution_count": 44,
   "metadata": {},
   "outputs": [],
   "source": [
    "# split data in form of X and y\n",
    "X = adm_notes_data.iloc[:,:-1]\n",
    "y = adm_notes_data['OUTPUT_LABEL']"
   ]
  },
  {
   "cell_type": "code",
   "execution_count": 45,
   "metadata": {},
   "outputs": [],
   "source": [
    "# shuffle data \n",
    "# split data in train and test set\n",
    "adm_notes_data = adm_notes_data.sample(n = len(adm_notes_data), random_state = 72)\n",
    "adm_notes_data = adm_notes_data.reset_index(drop = True)\n",
    "\n",
    "from sklearn.model_selection import train_test_split\n",
    "\n",
    "# Split dataset into training set and test set\n",
    "X_train, X_test, y_train, y_test = train_test_split(X, y, test_size=0.3)"
   ]
  },
  {
   "cell_type": "code",
   "execution_count": 46,
   "metadata": {},
   "outputs": [
    {
     "name": "stdout",
     "output_type": "stream",
     "text": [
      "X:    SUBJECT_ID  HADM_ID           ADMITTIME           DISCHTIME  \\\n",
      "0           3   145834 2101-10-20 19:08:00 2101-10-31 13:58:00   \n",
      "1           4   185777 2191-03-16 00:28:00 2191-03-23 18:41:00   \n",
      "2           6   107064 2175-05-30 07:15:00 2175-06-15 16:00:00   \n",
      "3          11   194540 2178-04-16 06:18:00 2178-05-11 19:00:00   \n",
      "4          13   143045 2167-01-08 18:43:00 2167-01-15 15:15:00   \n",
      "\n",
      "   DAYS_BETWEEN_ADMITS NEXT_ADMITTIME ADMISSION_TYPE  \\\n",
      "0                  NaN            NaT      EMERGENCY   \n",
      "1                  NaN            NaT      EMERGENCY   \n",
      "2                  NaN            NaT       ELECTIVE   \n",
      "3                  NaN            NaT      EMERGENCY   \n",
      "4                  NaN            NaT      EMERGENCY   \n",
      "\n",
      "                                                TEXT  \n",
      "0  Admission Date:  [**2101-10-20**]     Discharg...  \n",
      "1  Admission Date:  [**2191-3-16**]     Discharge...  \n",
      "2  Admission Date: [**2175-5-30**]        Dischar...  \n",
      "3  Admission Date:  [**2178-4-16**]              ...  \n",
      "4  Name:  [**Known lastname 9900**], [**Known fir...  \n",
      "Y: 0    0\n",
      "1    0\n",
      "2    0\n",
      "3    0\n",
      "4    0\n",
      "Name: OUTPUT_LABEL, dtype: int32\n",
      "X:  (45321, 8)\n",
      "Y:  (45321,)\n"
     ]
    }
   ],
   "source": [
    "# print x and y data dimension \n",
    "print(\"X:\" ,X.head())\n",
    "print(\"Y:\" ,y.head())\n",
    "print(\"X: \" , X.shape)\n",
    "print(\"Y: \", y.shape)"
   ]
  },
  {
   "cell_type": "code",
   "execution_count": 47,
   "metadata": {},
   "outputs": [
    {
     "data": {
      "text/plain": [
       "1    1810\n",
       "0    1805\n",
       "Name: OUTPUT_LABEL, dtype: int64"
      ]
     },
     "execution_count": 47,
     "metadata": {},
     "output_type": "execute_result"
    }
   ],
   "source": [
    "# remove data imbalance, by downsampling data\n",
    "from sklearn.utils import resample\n",
    "sampl_temp = pd.concat([X_train,y_train],axis=1)\n",
    "\n",
    "# Separate majority and minority classes\n",
    "df_majority = sampl_temp[sampl_temp.OUTPUT_LABEL==0]\n",
    "df_minority = sampl_temp[sampl_temp.OUTPUT_LABEL==1]\n",
    " \n",
    "# Downsample majority class\n",
    "df_majority_downsampled = resample(df_majority, \n",
    "                                 replace=False,    # sample without replacement\n",
    "                                 n_samples=1805,     # to match minority class\n",
    "                                 random_state=72) # reproducible results\n",
    " \n",
    "# Combine minority class with downsampled majority class\n",
    "df_downsampled = pd.concat([df_majority_downsampled, df_minority])\n",
    " \n",
    "# Display new class counts\n",
    "df_downsampled.OUTPUT_LABEL.value_counts()"
   ]
  },
  {
   "cell_type": "code",
   "execution_count": 49,
   "metadata": {},
   "outputs": [
    {
     "name": "stdout",
     "output_type": "stream",
     "text": [
      "(3615, 9)\n",
      "<class 'pandas.core.frame.DataFrame'>\n",
      "       SUBJECT_ID  HADM_ID           ADMITTIME           DISCHTIME  \\\n",
      "24064       28128   104705 2146-05-09 12:37:00 2146-05-15 13:30:00   \n",
      "25127       29335   105820 2185-05-06 00:39:00 2185-05-25 14:05:00   \n",
      "2862         3404   116930 2162-01-31 10:59:00 2162-02-12 17:25:00   \n",
      "31029       50404   110630 2110-09-21 22:40:00 2110-10-25 15:48:00   \n",
      "36910       70571   115921 2159-03-19 18:42:00 2159-03-24 13:15:00   \n",
      "\n",
      "       DAYS_BETWEEN_ADMITS NEXT_ADMITTIME ADMISSION_TYPE  \\\n",
      "24064                  NaN            NaT      EMERGENCY   \n",
      "25127                  NaN            NaT      EMERGENCY   \n",
      "2862                   NaN            NaT      EMERGENCY   \n",
      "31029                  NaN            NaT      EMERGENCY   \n",
      "36910                  NaN            NaT      EMERGENCY   \n",
      "\n",
      "                                                    TEXT  OUTPUT_LABEL  \n",
      "24064  Admission Date:  [**2146-5-9**]              D...             0  \n",
      "25127  Admission Date:  [**2185-5-6**]              D...             0  \n",
      "2862   Name:  [**Known lastname **], [**Known firstna...             0  \n",
      "31029  Admission Date:  [**2110-9-21**]              ...             0  \n",
      "36910  Admission Date:  [**2159-3-19**]              ...             0  \n"
     ]
    }
   ],
   "source": [
    "# analyse samples of downsampled data\n",
    "print(df_downsampled.shape)\n",
    "print(type(df_downsampled))\n",
    "print(df_downsampled.head())"
   ]
  },
  {
   "cell_type": "code",
   "execution_count": 50,
   "metadata": {},
   "outputs": [],
   "source": [
    "# pos tagging\n",
    "def convert_tag(treebank_tag):\n",
    "    if treebank_tag.startswith('J'):\n",
    "        return 'a'\n",
    "    elif treebank_tag.startswith('V'):\n",
    "        return 'v'\n",
    "    elif treebank_tag.startswith('N'):\n",
    "        return 'n'\n",
    "    elif treebank_tag.startswith('R'):\n",
    "        return 'r'\n",
    "    else:\n",
    "        return 'n'"
   ]
  },
  {
   "cell_type": "code",
   "execution_count": 51,
   "metadata": {},
   "outputs": [],
   "source": [
    "#lemmatization\n",
    "def lemmatizer(tokens):\n",
    "    tagged_words = pos_tag(tokens)\n",
    "    wnl = WordNetLemmatizer()\n",
    "    \n",
    "    lemma_words = []\n",
    "    for tupl in tagged_words:\n",
    "        lemma_words.append(wnl.lemmatize(tupl[0], convert_tag(tupl[1])))\n",
    "    \n",
    "    return lemma_words"
   ]
  },
  {
   "cell_type": "code",
   "execution_count": 52,
   "metadata": {},
   "outputs": [],
   "source": [
    "#data preprocessing \n",
    "def preprocessing(text):\n",
    "    \n",
    "    text = text.lower()\n",
    "    text = re.sub('[%s]' % re.escape(string.punctuation), '', text)\n",
    "    text = re.sub('\\w*\\d\\w*', '', text)\n",
    "    text = re.sub('\\n', '', text)\n",
    "    text = re.sub('\\r', '', text)\n",
    "    word_tokens = word_tokenize(text) \n",
    "    tokens = [word for word in word_tokens if word not in stopwords.words('english')]\n",
    "    lemmatized_tokens = lemmatizer(tokens)\n",
    "    return lemmatized_tokens"
   ]
  },
  {
   "cell_type": "code",
   "execution_count": 53,
   "metadata": {},
   "outputs": [
    {
     "data": {
      "text/html": [
       "<div>\n",
       "<style scoped>\n",
       "    .dataframe tbody tr th:only-of-type {\n",
       "        vertical-align: middle;\n",
       "    }\n",
       "\n",
       "    .dataframe tbody tr th {\n",
       "        vertical-align: top;\n",
       "    }\n",
       "\n",
       "    .dataframe thead th {\n",
       "        text-align: right;\n",
       "    }\n",
       "</style>\n",
       "<table border=\"1\" class=\"dataframe\">\n",
       "  <thead>\n",
       "    <tr style=\"text-align: right;\">\n",
       "      <th></th>\n",
       "      <th>aa</th>\n",
       "      <th>aaa</th>\n",
       "      <th>aao</th>\n",
       "      <th>ab</th>\n",
       "      <th>abaseline</th>\n",
       "      <th>abcess</th>\n",
       "      <th>abd</th>\n",
       "      <th>abdomen</th>\n",
       "      <th>abdomenpelvis</th>\n",
       "      <th>abdominal</th>\n",
       "      <th>...</th>\n",
       "      <th>zocor</th>\n",
       "      <th>zofran</th>\n",
       "      <th>zoloft</th>\n",
       "      <th>zolpidem</th>\n",
       "      <th>zone</th>\n",
       "      <th>zonisamide</th>\n",
       "      <th>zoster</th>\n",
       "      <th>zosyn</th>\n",
       "      <th>zygomatic</th>\n",
       "      <th>zyprexa</th>\n",
       "    </tr>\n",
       "  </thead>\n",
       "  <tbody>\n",
       "    <tr>\n",
       "      <th>sentence 1</th>\n",
       "      <td>0.0</td>\n",
       "      <td>0.0</td>\n",
       "      <td>0.0</td>\n",
       "      <td>0.0</td>\n",
       "      <td>0.0</td>\n",
       "      <td>0.0</td>\n",
       "      <td>0.000000</td>\n",
       "      <td>0.000000</td>\n",
       "      <td>0.0</td>\n",
       "      <td>0.000000</td>\n",
       "      <td>...</td>\n",
       "      <td>0.0</td>\n",
       "      <td>0.0</td>\n",
       "      <td>0.000000</td>\n",
       "      <td>0.0</td>\n",
       "      <td>0.0</td>\n",
       "      <td>0.0</td>\n",
       "      <td>0.0</td>\n",
       "      <td>0.000000</td>\n",
       "      <td>0.0</td>\n",
       "      <td>0.0</td>\n",
       "    </tr>\n",
       "    <tr>\n",
       "      <th>sentence 2</th>\n",
       "      <td>0.0</td>\n",
       "      <td>0.0</td>\n",
       "      <td>0.0</td>\n",
       "      <td>0.0</td>\n",
       "      <td>0.0</td>\n",
       "      <td>0.0</td>\n",
       "      <td>0.000000</td>\n",
       "      <td>0.014924</td>\n",
       "      <td>0.0</td>\n",
       "      <td>0.000000</td>\n",
       "      <td>...</td>\n",
       "      <td>0.0</td>\n",
       "      <td>0.0</td>\n",
       "      <td>0.000000</td>\n",
       "      <td>0.0</td>\n",
       "      <td>0.0</td>\n",
       "      <td>0.0</td>\n",
       "      <td>0.0</td>\n",
       "      <td>0.000000</td>\n",
       "      <td>0.0</td>\n",
       "      <td>0.0</td>\n",
       "    </tr>\n",
       "    <tr>\n",
       "      <th>sentence 3</th>\n",
       "      <td>0.0</td>\n",
       "      <td>0.0</td>\n",
       "      <td>0.0</td>\n",
       "      <td>0.0</td>\n",
       "      <td>0.0</td>\n",
       "      <td>0.0</td>\n",
       "      <td>0.000000</td>\n",
       "      <td>0.000000</td>\n",
       "      <td>0.0</td>\n",
       "      <td>0.045918</td>\n",
       "      <td>...</td>\n",
       "      <td>0.0</td>\n",
       "      <td>0.0</td>\n",
       "      <td>0.000000</td>\n",
       "      <td>0.0</td>\n",
       "      <td>0.0</td>\n",
       "      <td>0.0</td>\n",
       "      <td>0.0</td>\n",
       "      <td>0.000000</td>\n",
       "      <td>0.0</td>\n",
       "      <td>0.0</td>\n",
       "    </tr>\n",
       "    <tr>\n",
       "      <th>sentence 4</th>\n",
       "      <td>0.0</td>\n",
       "      <td>0.0</td>\n",
       "      <td>0.0</td>\n",
       "      <td>0.0</td>\n",
       "      <td>0.0</td>\n",
       "      <td>0.0</td>\n",
       "      <td>0.020251</td>\n",
       "      <td>0.030854</td>\n",
       "      <td>0.0</td>\n",
       "      <td>0.021522</td>\n",
       "      <td>...</td>\n",
       "      <td>0.0</td>\n",
       "      <td>0.0</td>\n",
       "      <td>0.000000</td>\n",
       "      <td>0.0</td>\n",
       "      <td>0.0</td>\n",
       "      <td>0.0</td>\n",
       "      <td>0.0</td>\n",
       "      <td>0.079487</td>\n",
       "      <td>0.0</td>\n",
       "      <td>0.0</td>\n",
       "    </tr>\n",
       "    <tr>\n",
       "      <th>sentence 5</th>\n",
       "      <td>0.0</td>\n",
       "      <td>0.0</td>\n",
       "      <td>0.0</td>\n",
       "      <td>0.0</td>\n",
       "      <td>0.0</td>\n",
       "      <td>0.0</td>\n",
       "      <td>0.000000</td>\n",
       "      <td>0.000000</td>\n",
       "      <td>0.0</td>\n",
       "      <td>0.000000</td>\n",
       "      <td>...</td>\n",
       "      <td>0.0</td>\n",
       "      <td>0.0</td>\n",
       "      <td>0.000000</td>\n",
       "      <td>0.0</td>\n",
       "      <td>0.0</td>\n",
       "      <td>0.0</td>\n",
       "      <td>0.0</td>\n",
       "      <td>0.000000</td>\n",
       "      <td>0.0</td>\n",
       "      <td>0.0</td>\n",
       "    </tr>\n",
       "    <tr>\n",
       "      <th>...</th>\n",
       "      <td>...</td>\n",
       "      <td>...</td>\n",
       "      <td>...</td>\n",
       "      <td>...</td>\n",
       "      <td>...</td>\n",
       "      <td>...</td>\n",
       "      <td>...</td>\n",
       "      <td>...</td>\n",
       "      <td>...</td>\n",
       "      <td>...</td>\n",
       "      <td>...</td>\n",
       "      <td>...</td>\n",
       "      <td>...</td>\n",
       "      <td>...</td>\n",
       "      <td>...</td>\n",
       "      <td>...</td>\n",
       "      <td>...</td>\n",
       "      <td>...</td>\n",
       "      <td>...</td>\n",
       "      <td>...</td>\n",
       "      <td>...</td>\n",
       "    </tr>\n",
       "    <tr>\n",
       "      <th>sentence 3611</th>\n",
       "      <td>0.0</td>\n",
       "      <td>0.0</td>\n",
       "      <td>0.0</td>\n",
       "      <td>0.0</td>\n",
       "      <td>0.0</td>\n",
       "      <td>0.0</td>\n",
       "      <td>0.000000</td>\n",
       "      <td>0.000000</td>\n",
       "      <td>0.0</td>\n",
       "      <td>0.000000</td>\n",
       "      <td>...</td>\n",
       "      <td>0.0</td>\n",
       "      <td>0.0</td>\n",
       "      <td>0.000000</td>\n",
       "      <td>0.0</td>\n",
       "      <td>0.0</td>\n",
       "      <td>0.0</td>\n",
       "      <td>0.0</td>\n",
       "      <td>0.000000</td>\n",
       "      <td>0.0</td>\n",
       "      <td>0.0</td>\n",
       "    </tr>\n",
       "    <tr>\n",
       "      <th>sentence 3612</th>\n",
       "      <td>0.0</td>\n",
       "      <td>0.0</td>\n",
       "      <td>0.0</td>\n",
       "      <td>0.0</td>\n",
       "      <td>0.0</td>\n",
       "      <td>0.0</td>\n",
       "      <td>0.000000</td>\n",
       "      <td>0.000000</td>\n",
       "      <td>0.0</td>\n",
       "      <td>0.000000</td>\n",
       "      <td>...</td>\n",
       "      <td>0.0</td>\n",
       "      <td>0.0</td>\n",
       "      <td>0.000000</td>\n",
       "      <td>0.0</td>\n",
       "      <td>0.0</td>\n",
       "      <td>0.0</td>\n",
       "      <td>0.0</td>\n",
       "      <td>0.000000</td>\n",
       "      <td>0.0</td>\n",
       "      <td>0.0</td>\n",
       "    </tr>\n",
       "    <tr>\n",
       "      <th>sentence 3613</th>\n",
       "      <td>0.0</td>\n",
       "      <td>0.0</td>\n",
       "      <td>0.0</td>\n",
       "      <td>0.0</td>\n",
       "      <td>0.0</td>\n",
       "      <td>0.0</td>\n",
       "      <td>0.000000</td>\n",
       "      <td>0.000000</td>\n",
       "      <td>0.0</td>\n",
       "      <td>0.000000</td>\n",
       "      <td>...</td>\n",
       "      <td>0.0</td>\n",
       "      <td>0.0</td>\n",
       "      <td>0.000000</td>\n",
       "      <td>0.0</td>\n",
       "      <td>0.0</td>\n",
       "      <td>0.0</td>\n",
       "      <td>0.0</td>\n",
       "      <td>0.000000</td>\n",
       "      <td>0.0</td>\n",
       "      <td>0.0</td>\n",
       "    </tr>\n",
       "    <tr>\n",
       "      <th>sentence 3614</th>\n",
       "      <td>0.0</td>\n",
       "      <td>0.0</td>\n",
       "      <td>0.0</td>\n",
       "      <td>0.0</td>\n",
       "      <td>0.0</td>\n",
       "      <td>0.0</td>\n",
       "      <td>0.000000</td>\n",
       "      <td>0.026092</td>\n",
       "      <td>0.0</td>\n",
       "      <td>0.072799</td>\n",
       "      <td>...</td>\n",
       "      <td>0.0</td>\n",
       "      <td>0.0</td>\n",
       "      <td>0.057927</td>\n",
       "      <td>0.0</td>\n",
       "      <td>0.0</td>\n",
       "      <td>0.0</td>\n",
       "      <td>0.0</td>\n",
       "      <td>0.000000</td>\n",
       "      <td>0.0</td>\n",
       "      <td>0.0</td>\n",
       "    </tr>\n",
       "    <tr>\n",
       "      <th>sentence 3615</th>\n",
       "      <td>0.0</td>\n",
       "      <td>0.0</td>\n",
       "      <td>0.0</td>\n",
       "      <td>0.0</td>\n",
       "      <td>0.0</td>\n",
       "      <td>0.0</td>\n",
       "      <td>0.000000</td>\n",
       "      <td>0.035314</td>\n",
       "      <td>0.0</td>\n",
       "      <td>0.000000</td>\n",
       "      <td>...</td>\n",
       "      <td>0.0</td>\n",
       "      <td>0.0</td>\n",
       "      <td>0.000000</td>\n",
       "      <td>0.0</td>\n",
       "      <td>0.0</td>\n",
       "      <td>0.0</td>\n",
       "      <td>0.0</td>\n",
       "      <td>0.000000</td>\n",
       "      <td>0.0</td>\n",
       "      <td>0.0</td>\n",
       "    </tr>\n",
       "  </tbody>\n",
       "</table>\n",
       "<p>3615 rows × 10000 columns</p>\n",
       "</div>"
      ],
      "text/plain": [
       "                aa  aaa  aao   ab  abaseline  abcess       abd   abdomen  \\\n",
       "sentence 1     0.0  0.0  0.0  0.0        0.0     0.0  0.000000  0.000000   \n",
       "sentence 2     0.0  0.0  0.0  0.0        0.0     0.0  0.000000  0.014924   \n",
       "sentence 3     0.0  0.0  0.0  0.0        0.0     0.0  0.000000  0.000000   \n",
       "sentence 4     0.0  0.0  0.0  0.0        0.0     0.0  0.020251  0.030854   \n",
       "sentence 5     0.0  0.0  0.0  0.0        0.0     0.0  0.000000  0.000000   \n",
       "...            ...  ...  ...  ...        ...     ...       ...       ...   \n",
       "sentence 3611  0.0  0.0  0.0  0.0        0.0     0.0  0.000000  0.000000   \n",
       "sentence 3612  0.0  0.0  0.0  0.0        0.0     0.0  0.000000  0.000000   \n",
       "sentence 3613  0.0  0.0  0.0  0.0        0.0     0.0  0.000000  0.000000   \n",
       "sentence 3614  0.0  0.0  0.0  0.0        0.0     0.0  0.000000  0.026092   \n",
       "sentence 3615  0.0  0.0  0.0  0.0        0.0     0.0  0.000000  0.035314   \n",
       "\n",
       "               abdomenpelvis  abdominal  ...  zocor  zofran    zoloft  \\\n",
       "sentence 1               0.0   0.000000  ...    0.0     0.0  0.000000   \n",
       "sentence 2               0.0   0.000000  ...    0.0     0.0  0.000000   \n",
       "sentence 3               0.0   0.045918  ...    0.0     0.0  0.000000   \n",
       "sentence 4               0.0   0.021522  ...    0.0     0.0  0.000000   \n",
       "sentence 5               0.0   0.000000  ...    0.0     0.0  0.000000   \n",
       "...                      ...        ...  ...    ...     ...       ...   \n",
       "sentence 3611            0.0   0.000000  ...    0.0     0.0  0.000000   \n",
       "sentence 3612            0.0   0.000000  ...    0.0     0.0  0.000000   \n",
       "sentence 3613            0.0   0.000000  ...    0.0     0.0  0.000000   \n",
       "sentence 3614            0.0   0.072799  ...    0.0     0.0  0.057927   \n",
       "sentence 3615            0.0   0.000000  ...    0.0     0.0  0.000000   \n",
       "\n",
       "               zolpidem  zone  zonisamide  zoster     zosyn  zygomatic  \\\n",
       "sentence 1          0.0   0.0         0.0     0.0  0.000000        0.0   \n",
       "sentence 2          0.0   0.0         0.0     0.0  0.000000        0.0   \n",
       "sentence 3          0.0   0.0         0.0     0.0  0.000000        0.0   \n",
       "sentence 4          0.0   0.0         0.0     0.0  0.079487        0.0   \n",
       "sentence 5          0.0   0.0         0.0     0.0  0.000000        0.0   \n",
       "...                 ...   ...         ...     ...       ...        ...   \n",
       "sentence 3611       0.0   0.0         0.0     0.0  0.000000        0.0   \n",
       "sentence 3612       0.0   0.0         0.0     0.0  0.000000        0.0   \n",
       "sentence 3613       0.0   0.0         0.0     0.0  0.000000        0.0   \n",
       "sentence 3614       0.0   0.0         0.0     0.0  0.000000        0.0   \n",
       "sentence 3615       0.0   0.0         0.0     0.0  0.000000        0.0   \n",
       "\n",
       "               zyprexa  \n",
       "sentence 1         0.0  \n",
       "sentence 2         0.0  \n",
       "sentence 3         0.0  \n",
       "sentence 4         0.0  \n",
       "sentence 5         0.0  \n",
       "...                ...  \n",
       "sentence 3611      0.0  \n",
       "sentence 3612      0.0  \n",
       "sentence 3613      0.0  \n",
       "sentence 3614      0.0  \n",
       "sentence 3615      0.0  \n",
       "\n",
       "[3615 rows x 10000 columns]"
      ]
     },
     "execution_count": 53,
     "metadata": {},
     "output_type": "execute_result"
    }
   ],
   "source": [
    "# implementing TF-IDF, feature extraction tool \n",
    "vectorized_text = TfidfVectorizer(max_features=10000, tokenizer=preprocessing)\n",
    "vectorized = vectorized_text.fit_transform(df_downsampled.TEXT.values.astype(str))\n",
    "pd.DataFrame(vectorized.toarray(), \n",
    "             index=['sentence '+str(i) \n",
    "                    for i in range(1, 1+len(df_downsampled.TEXT.values.astype(str)))],\n",
    "             columns=vectorized_text.get_feature_names())"
   ]
  },
  {
   "cell_type": "code",
   "execution_count": 54,
   "metadata": {},
   "outputs": [],
   "source": [
    "# create test data\n",
    "temp_test = pd.concat([X_test,y_test],axis=1)"
   ]
  },
  {
   "cell_type": "code",
   "execution_count": 55,
   "metadata": {},
   "outputs": [
    {
     "name": "stdout",
     "output_type": "stream",
     "text": [
      "<class 'pandas.core.frame.DataFrame'>\n",
      "(13597, 9)\n",
      "       SUBJECT_ID  HADM_ID           ADMITTIME           DISCHTIME  \\\n",
      "3530         4161   181120 2109-03-02 00:32:00 2109-03-06 17:01:00   \n",
      "25856       30091   126085 2144-07-31 11:30:00 2144-08-10 15:15:00   \n",
      "21419       25196   195924 2145-12-17 23:20:00 2146-01-01 12:15:00   \n",
      "4365         5158   197887 2167-06-27 12:57:00 2167-07-06 19:00:00   \n",
      "21743       25549   139656 2175-03-08 12:00:00 2175-03-27 17:50:00   \n",
      "\n",
      "       DAYS_BETWEEN_ADMITS NEXT_ADMITTIME ADMISSION_TYPE  \\\n",
      "3530                   NaN            NaT      EMERGENCY   \n",
      "25856                  NaN            NaT      EMERGENCY   \n",
      "21419                  NaN            NaT      EMERGENCY   \n",
      "4365                   NaN            NaT      EMERGENCY   \n",
      "21743                  NaN            NaT       ELECTIVE   \n",
      "\n",
      "                                                    TEXT  OUTPUT_LABEL  \n",
      "3530   Admission Date:  [**2109-3-1**]       Discharg...             0  \n",
      "25856  Admission Date:  [**2144-7-31**]              ...             0  \n",
      "21419  Admission Date:  [**2145-12-17**]             ...             0  \n",
      "4365   Admission Date:  [**2167-6-27**]              ...             0  \n",
      "21743  Unit No:  [**Numeric Identifier 57258**]\\nAdmi...             0  \n"
     ]
    }
   ],
   "source": [
    "# print dimensions of test samples\n",
    "print(type(temp_test))\n",
    "print(temp_test.shape)\n",
    "print(temp_test.head())"
   ]
  },
  {
   "cell_type": "code",
   "execution_count": 56,
   "metadata": {},
   "outputs": [
    {
     "name": "stdout",
     "output_type": "stream",
     "text": [
      "0    12858\n",
      "1      739\n",
      "Name: OUTPUT_LABEL, dtype: int64\n"
     ]
    }
   ],
   "source": [
    "# count of positive and negative samples in test data\n",
    "print(temp_test.OUTPUT_LABEL.value_counts())"
   ]
  },
  {
   "cell_type": "code",
   "execution_count": 57,
   "metadata": {},
   "outputs": [],
   "source": [
    "# to transform the data into vector format\n",
    "X_train_tf = vectorized_text.transform(df_downsampled.TEXT.values.astype(str))\n",
    "X_test_tf = vectorized_text.transform(temp_test.TEXT.values.astype(str))"
   ]
  },
  {
   "cell_type": "code",
   "execution_count": 58,
   "metadata": {},
   "outputs": [],
   "source": [
    "# provide label to test, valid, and train data\n",
    "y_train_tf = df_downsampled.OUTPUT_LABEL\n",
    "y_test_tf = temp_test.OUTPUT_LABEL"
   ]
  },
  {
   "cell_type": "code",
   "execution_count": 59,
   "metadata": {},
   "outputs": [],
   "source": [
    "# create evaluation metrics\n",
    "def showResults(modelname,test, pred):\n",
    "    accuracy = accuracy_score(test, pred)\n",
    "    precision=precision_score(test, pred, average='weighted')\n",
    "    f1Score=f1_score(test, pred, average='weighted') \n",
    "    print(\"Accuracy  : {}\".format(accuracy))\n",
    "    print(\"Precision : {}\".format(precision))\n",
    "    print(\"F1Score : {}\".format(f1Score))\n",
    "    print(\"Confusion Matrix: \")\n",
    "    print(confusion_matrix(test, pred))\n",
    "    print(\"Classification Report: \")\n",
    "    print(classification_report(test, pred))\n",
    "    results = accuracy\n",
    "    return results"
   ]
  },
  {
   "cell_type": "code",
   "execution_count": 60,
   "metadata": {},
   "outputs": [
    {
     "name": "stdout",
     "output_type": "stream",
     "text": [
      "Base KNN Model Performance:\n",
      "Accuracy  : 0.4520850187541369\n",
      "Precision : 0.9184283784830183\n",
      "F1Score : 0.5747972255495682\n",
      "Confusion Matrix: \n",
      "[[5598 7260]\n",
      " [ 190  549]]\n",
      "Classification Report: \n",
      "              precision    recall  f1-score   support\n",
      "\n",
      "           0       0.97      0.44      0.60     12858\n",
      "           1       0.07      0.74      0.13       739\n",
      "\n",
      "    accuracy                           0.45     13597\n",
      "   macro avg       0.52      0.59      0.36     13597\n",
      "weighted avg       0.92      0.45      0.57     13597\n",
      "\n"
     ]
    }
   ],
   "source": [
    "# implement KNN\n",
    "temp_knn = KNeighborsClassifier(n_neighbors=100)\n",
    "temp_knn.fit(X_train_tf, y_train_tf)\n",
    "\n",
    "base_knn_predictions=temp_knn.predict(X_test_tf)\n",
    "print(\"Base KNN Model Performance:\")\n",
    "knn_base_results = showResults(\"Base KNN\",y_test_tf, base_knn_predictions)"
   ]
  },
  {
   "cell_type": "code",
   "execution_count": 62,
   "metadata": {},
   "outputs": [
    {
     "data": {
      "text/plain": [
       "GridSearchCV(cv=3, error_score=nan,\n",
       "             estimator=KNeighborsClassifier(algorithm='auto', leaf_size=30,\n",
       "                                            metric='minkowski',\n",
       "                                            metric_params=None, n_jobs=None,\n",
       "                                            n_neighbors=100, p=2,\n",
       "                                            weights='uniform'),\n",
       "             iid='deprecated', n_jobs=None,\n",
       "             param_grid={'n_neighbors': [400, 500, 600, 700]},\n",
       "             pre_dispatch='2*n_jobs', refit=True, return_train_score=False,\n",
       "             scoring=None, verbose=0)"
      ]
     },
     "execution_count": 62,
     "metadata": {},
     "output_type": "execute_result"
    }
   ],
   "source": [
    "#implement gridsearch in knn\n",
    "#create a dictionary of all values we want to test for n_neighbors\n",
    "param_grid = {\"n_neighbors\": [400, 500, 600, 700]}\n",
    "#use gridsearch to test all values for n_neighbors\n",
    "grid_knn = GridSearchCV(temp_knn, param_grid, cv=3)\n",
    "#fit model to data\n",
    "grid_knn.fit(X_train_tf, y_train_tf)"
   ]
  },
  {
   "cell_type": "code",
   "execution_count": 63,
   "metadata": {},
   "outputs": [
    {
     "name": "stdout",
     "output_type": "stream",
     "text": [
      "Grid KNN Model Performance:\n",
      "Accuracy  : 0.38346694123703756\n",
      "Precision : 0.9212968482018956\n",
      "F1Score : 0.5023998696593996\n",
      "Confusion Matrix: \n",
      "[[4616 8242]\n",
      " [ 141  598]]\n",
      "Classification Report: \n",
      "              precision    recall  f1-score   support\n",
      "\n",
      "           0       0.97      0.36      0.52     12858\n",
      "           1       0.07      0.81      0.12       739\n",
      "\n",
      "    accuracy                           0.38     13597\n",
      "   macro avg       0.52      0.58      0.32     13597\n",
      "weighted avg       0.92      0.38      0.50     13597\n",
      "\n"
     ]
    }
   ],
   "source": [
    "#result of gridsearch knn \n",
    "grid_knn_predictions=grid_knn.predict(X_test_tf)\n",
    "print(\"Grid KNN Model Performance:\")\n",
    "grid_knn_results = showResults(\"GridSearchCV KNN\",y_test_tf, grid_knn_predictions)"
   ]
  },
  {
   "cell_type": "code",
   "execution_count": 64,
   "metadata": {},
   "outputs": [
    {
     "data": {
      "image/png": "[encoded data removed]",
      "text/plain": [
       "<Figure size 432x288 with 1 Axes>"
      ]
     },
     "metadata": {
      "needs_background": "light"
     },
     "output_type": "display_data"
    }
   ],
   "source": [
    "#graph plotting n_neighbours and test score\n",
    "grid_knn_scores_df = pd.DataFrame(grid_knn.cv_results_['params'])\n",
    "grid_knn_scores_df['test_score'] = grid_knn.cv_results_['mean_test_score']\n",
    "ax = sns.lineplot(x=\"n_neighbors\", y=\"test_score\", data=grid_knn_scores_df)\n",
    "figure=ax.get_figure()"
   ]
  },
  {
   "cell_type": "code",
   "execution_count": 68,
   "metadata": {},
   "outputs": [
    {
     "name": "stderr",
     "output_type": "stream",
     "text": [
      "C:\\Users\\pankt\\anaconda_3\\lib\\site-packages\\sklearn\\model_selection\\_search.py:281: UserWarning: The total space of parameters 4 is smaller than n_iter=10. Running 4 iterations. For exhaustive searches, use GridSearchCV.\n",
      "  % (grid_size, self.n_iter, grid_size), UserWarning)\n"
     ]
    },
    {
     "name": "stdout",
     "output_type": "stream",
     "text": [
      "0.5654405350392556\n",
      "{'n_neighbors': 400}\n",
      "Random Search KNN Model Performance:\n",
      "Accuracy  : 0.38346694123703756\n",
      "Precision : 0.9212968482018956\n",
      "F1Score : 0.5023998696593996\n",
      "Confusion Matrix: \n",
      "[[4616 8242]\n",
      " [ 141  598]]\n",
      "Classification Report: \n",
      "              precision    recall  f1-score   support\n",
      "\n",
      "           0       0.97      0.36      0.52     12858\n",
      "           1       0.07      0.81      0.12       739\n",
      "\n",
      "    accuracy                           0.38     13597\n",
      "   macro avg       0.52      0.58      0.32     13597\n",
      "weighted avg       0.92      0.38      0.50     13597\n",
      "\n"
     ]
    }
   ],
   "source": [
    "#implement random searchcv in knn\n",
    "random_knn = RandomizedSearchCV(temp_knn, param_grid, cv=10, scoring='accuracy', n_iter=10, random_state=5)\n",
    "random_knn.fit(X_train_tf, y_train_tf)\n",
    "\n",
    "print(random_knn.best_score_)\n",
    "print(random_knn.best_params_)\n",
    "\n",
    "random_knn_predictions=random_knn.predict(X_test_tf)\n",
    "print(\"Random Search KNN Model Performance:\")\n",
    "random_knn_results = showResults(\"RandomSearchCV KNN\",y_test_tf, random_knn_predictions)"
   ]
  },
  {
   "cell_type": "code",
   "execution_count": 70,
   "metadata": {},
   "outputs": [
    {
     "name": "stdout",
     "output_type": "stream",
     "text": [
      "Base KNN Model\n",
      "\n",
      "Accuracy  : 0.4520850187541369\n",
      "Precision : 0.9184283784830183\n",
      "F1Score : 0.5747972255495682\n",
      "Confusion Matrix: \n",
      "[[5598 7260]\n",
      " [ 190  549]]\n",
      "Classification Report: \n",
      "              precision    recall  f1-score   support\n",
      "\n",
      "           0       0.97      0.44      0.60     12858\n",
      "           1       0.07      0.74      0.13       739\n",
      "\n",
      "    accuracy                           0.45     13597\n",
      "   macro avg       0.52      0.59      0.36     13597\n",
      "weighted avg       0.92      0.45      0.57     13597\n",
      "\n",
      "\n",
      "GridSearchCV KNN Model\n",
      "\n",
      "Accuracy  : 0.38346694123703756\n",
      "Precision : 0.9212968482018956\n",
      "F1Score : 0.5023998696593996\n",
      "Confusion Matrix: \n",
      "[[4616 8242]\n",
      " [ 141  598]]\n",
      "Classification Report: \n",
      "              precision    recall  f1-score   support\n",
      "\n",
      "           0       0.97      0.36      0.52     12858\n",
      "           1       0.07      0.81      0.12       739\n",
      "\n",
      "    accuracy                           0.38     13597\n",
      "   macro avg       0.52      0.58      0.32     13597\n",
      "weighted avg       0.92      0.38      0.50     13597\n",
      "\n"
     ]
    }
   ],
   "source": [
    "print(\"Base KNN Model\\n\")\n",
    "showResults(\"Base KNN\",y_test_tf, base_knn_predictions)\n",
    "\n",
    "print(\"\\nGridSearchCV KNN Model\\n\")\n",
    "grid_knn_results = showResults(\"GridSearchCV KNN\",y_test_tf, grid_knn_predictions)"
   ]
  },
  {
   "cell_type": "code",
   "execution_count": 71,
   "metadata": {},
   "outputs": [
    {
     "name": "stdout",
     "output_type": "stream",
     "text": [
      "Accuracy  : 0.6277119952930793\n",
      "Precision : 0.9203243429099409\n",
      "F1Score : 0.7282621877453038\n",
      "Confusion Matrix: \n",
      "[[8062 4796]\n",
      " [ 266  473]]\n",
      "Classification Report: \n",
      "              precision    recall  f1-score   support\n",
      "\n",
      "           0       0.97      0.63      0.76     12858\n",
      "           1       0.09      0.64      0.16       739\n",
      "\n",
      "    accuracy                           0.63     13597\n",
      "   macro avg       0.53      0.63      0.46     13597\n",
      "weighted avg       0.92      0.63      0.73     13597\n",
      "\n"
     ]
    }
   ],
   "source": [
    "#implement random forest classifier \n",
    "base_rf = RandomForestClassifier(n_estimators = 700, random_state = 72, max_depth=150, max_features=\"auto\")\n",
    "base_rf.fit(X_train_tf, y_train_tf)\n",
    "\n",
    "\n",
    "base_rf_predictions=base_rf.predict(X_test_tf)\n",
    "#print(base_rf_predictions.shape)\n",
    "\n",
    "base_rf_results = showResults(\"Base RF\",y_test_tf, base_rf_predictions)\n",
    "\n",
    "#scores = cross_val_score(base_rf, X_train_tf, y_train_tf, cv=10, scoring='accuracy')\n",
    "#print(\"Mean Cross-validation score = \", np.mean(scores))"
   ]
  },
  {
   "cell_type": "code",
   "execution_count": 72,
   "metadata": {},
   "outputs": [
    {
     "name": "stdout",
     "output_type": "stream",
     "text": [
      "Fitting 3 folds for each of 100 candidates, totalling 300 fits\n"
     ]
    },
    {
     "name": "stderr",
     "output_type": "stream",
     "text": [
      "[Parallel(n_jobs=-1)]: Using backend LokyBackend with 12 concurrent workers.\n",
      "[Parallel(n_jobs=-1)]: Done  17 tasks      | elapsed:  1.4min\n",
      "[Parallel(n_jobs=-1)]: Done 138 tasks      | elapsed:  7.5min\n",
      "[Parallel(n_jobs=-1)]: Done 300 out of 300 | elapsed: 14.2min finished\n"
     ]
    },
    {
     "name": "stdout",
     "output_type": "stream",
     "text": [
      "Best Parameters are\n",
      "{'n_estimators': 1000, 'max_features': 'sqrt', 'max_depth': 51}\n",
      "Best Score is\n",
      "0.6301521438450899\n",
      "Accuracy  : 0.6267559020372141\n",
      "Precision : 0.921185738327164\n",
      "F1Score : 0.727474361597794\n",
      "Confusion Matrix: \n",
      "[[8041 4817]\n",
      " [ 258  481]]\n",
      "Classification Report: \n",
      "              precision    recall  f1-score   support\n",
      "\n",
      "           0       0.97      0.63      0.76     12858\n",
      "           1       0.09      0.65      0.16       739\n",
      "\n",
      "    accuracy                           0.63     13597\n",
      "   macro avg       0.53      0.64      0.46     13597\n",
      "weighted avg       0.92      0.63      0.73     13597\n",
      "\n"
     ]
    }
   ],
   "source": [
    "# number of trees in random forest\n",
    "n_estimators = [int(x) for x in np.linspace(start = 10, stop = 1000, num = 10)]# number of features at every split\n",
    "max_features = [\"auto\", \"sqrt\"]\n",
    "\n",
    "# max depth\n",
    "max_depth = [int(x) for x in np.linspace(20, 300, num = 10)]\n",
    "max_depth.append(None)\n",
    "\n",
    "# create random grid\n",
    "random_grid = {\n",
    " \"n_estimators\": n_estimators,\n",
    " \"max_features\": max_features,\n",
    " \"max_depth\": max_depth}\n",
    "\n",
    "# Random search of parameters\n",
    "random_rf = RandomizedSearchCV(estimator = base_rf, param_distributions = random_grid, n_iter = 100, cv = 3, verbose=2, random_state=72, n_jobs = -1)# Fit the model\n",
    "random_rf.fit(X_train_tf, y_train_tf)\n",
    "\n",
    "# print results\n",
    "print(\"Best Parameters are\")\n",
    "print(random_rf.best_params_)\n",
    "print(\"Best Score is\")\n",
    "print(random_rf.best_score_)\n",
    "\n",
    "best_random=random_rf.best_estimator_\n",
    "random_rf_predictions = best_random.predict(X_test_tf)\n",
    "\n",
    "random_rf_results = showResults(\"RandomSearchCV RF\",y_test_tf, random_rf_predictions)\n"
   ]
  },
  {
   "cell_type": "code",
   "execution_count": 75,
   "metadata": {},
   "outputs": [
    {
     "name": "stdout",
     "output_type": "stream",
     "text": [
      "Base Random Forest Model\n",
      "\n",
      "Accuracy  : 0.6277119952930793\n",
      "Precision : 0.9203243429099409\n",
      "F1Score : 0.7282621877453038\n",
      "Confusion Matrix: \n",
      "[[8062 4796]\n",
      " [ 266  473]]\n",
      "Classification Report: \n",
      "              precision    recall  f1-score   support\n",
      "\n",
      "           0       0.97      0.63      0.76     12858\n",
      "           1       0.09      0.64      0.16       739\n",
      "\n",
      "    accuracy                           0.63     13597\n",
      "   macro avg       0.53      0.63      0.46     13597\n",
      "weighted avg       0.92      0.63      0.73     13597\n",
      "\n",
      "\n",
      "RandomSearchCV Model\n",
      "\n",
      "Accuracy  : 0.6267559020372141\n",
      "Precision : 0.921185738327164\n",
      "F1Score : 0.727474361597794\n",
      "Confusion Matrix: \n",
      "[[8041 4817]\n",
      " [ 258  481]]\n",
      "Classification Report: \n",
      "              precision    recall  f1-score   support\n",
      "\n",
      "           0       0.97      0.63      0.76     12858\n",
      "           1       0.09      0.65      0.16       739\n",
      "\n",
      "    accuracy                           0.63     13597\n",
      "   macro avg       0.53      0.64      0.46     13597\n",
      "weighted avg       0.92      0.63      0.73     13597\n",
      "\n"
     ]
    }
   ],
   "source": [
    "#showcase the results \n",
    "print(\"Base Random Forest Model\\n\")\n",
    "showResults(\"Base RF\",y_test_tf, base_rf_predictions)\n",
    "\n",
    "print(\"\\nRandomSearchCV Model\\n\")\n",
    "random_rf_results = showResults(\"RandomSearchCV RF\",y_test_tf, random_rf_predictions)\n"
   ]
  },
  {
   "cell_type": "code",
   "execution_count": 76,
   "metadata": {},
   "outputs": [
    {
     "name": "stdout",
     "output_type": "stream",
     "text": [
      "Accuracy  : 0.6553651540781055\n",
      "Precision : 0.9221150437000989\n",
      "F1Score : 0.749260883950376\n",
      "Confusion Matrix: \n",
      "[[8437 4421]\n",
      " [ 265  474]]\n",
      "Classification Report: \n",
      "              precision    recall  f1-score   support\n",
      "\n",
      "           0       0.97      0.66      0.78     12858\n",
      "           1       0.10      0.64      0.17       739\n",
      "\n",
      "    accuracy                           0.66     13597\n",
      "   macro avg       0.53      0.65      0.48     13597\n",
      "weighted avg       0.92      0.66      0.75     13597\n",
      "\n"
     ]
    }
   ],
   "source": [
    "#execute logistic regression\n",
    "lr=LogisticRegression(random_state = 72)\n",
    "lr.fit(X_train_tf, y_train_tf)\n",
    "\n",
    "base_lr_predictions=lr.predict(X_test_tf)\n",
    "\n",
    "base_lr_results = showResults(\"Base LR\",y_test_tf, base_lr_predictions)"
   ]
  },
  {
   "cell_type": "code",
   "execution_count": 78,
   "metadata": {},
   "outputs": [
    {
     "name": "stdout",
     "output_type": "stream",
     "text": [
      "Best Parameters are\n",
      "{'C': 1.0, 'n_jobs': -1, 'penalty': 'l2'}\n",
      "Best Score is\n",
      "0.6345781466113416\n",
      "(13597,)\n",
      "Accuracy  : 0.6553651540781055\n",
      "Precision : 0.9221150437000989\n",
      "F1Score : 0.749260883950376\n",
      "Confusion Matrix: \n",
      "[[8437 4421]\n",
      " [ 265  474]]\n",
      "Classification Report: \n",
      "              precision    recall  f1-score   support\n",
      "\n",
      "           0       0.97      0.66      0.78     12858\n",
      "           1       0.10      0.64      0.17       739\n",
      "\n",
      "    accuracy                           0.66     13597\n",
      "   macro avg       0.53      0.65      0.48     13597\n",
      "weighted avg       0.92      0.66      0.75     13597\n",
      "\n"
     ]
    }
   ],
   "source": [
    "#gridsearch in LR\n",
    "#create a dictionary of all values we want to test for n_neighbors\n",
    "param_grid = { 'C': [1e-7, 1e-6, 1e-5, 1e-4, 1e-3, 1e-2, 1e-1, 1e0],\n",
    "    'penalty': ['l2'],\n",
    "    'n_jobs': [-1]}\n",
    "#use gridsearch to test all values for n_neighbors\n",
    "grid_lr = GridSearchCV(lr, param_grid, cv=3)\n",
    "#fit model to data\n",
    "grid_lr.fit(X_train_tf, y_train_tf)\n",
    "print(\"Best Parameters are\")\n",
    "print(grid_lr.best_params_)\n",
    "print(\"Best Score is\")\n",
    "print(grid_lr.best_score_)\n",
    "\n",
    "best_grid_lr=grid_lr.best_estimator_\n",
    "grid_lr_predictions = best_grid_lr.predict(X_test_tf)\n",
    "print(grid_lr_predictions.shape)\n",
    "\n",
    "grid_lr_results = showResults(\"GridSearchCV LR\",y_test_tf, grid_lr_predictions)"
   ]
  },
  {
   "cell_type": "code",
   "execution_count": 80,
   "metadata": {},
   "outputs": [
    {
     "name": "stderr",
     "output_type": "stream",
     "text": [
      "C:\\Users\\pankt\\anaconda_3\\lib\\site-packages\\sklearn\\model_selection\\_search.py:281: UserWarning: The total space of parameters 2 is smaller than n_iter=100. Running 2 iterations. For exhaustive searches, use GridSearchCV.\n",
      "  % (grid_size, self.n_iter, grid_size), UserWarning)\n"
     ]
    },
    {
     "name": "stdout",
     "output_type": "stream",
     "text": [
      "Accuracy  : 0.6553651540781055\n",
      "Precision : 0.9221150437000989\n",
      "F1Score : 0.749260883950376\n",
      "Confusion Matrix: \n",
      "[[8437 4421]\n",
      " [ 265  474]]\n",
      "Classification Report: \n",
      "              precision    recall  f1-score   support\n",
      "\n",
      "           0       0.97      0.66      0.78     12858\n",
      "           1       0.10      0.64      0.17       739\n",
      "\n",
      "    accuracy                           0.66     13597\n",
      "   macro avg       0.53      0.65      0.48     13597\n",
      "weighted avg       0.92      0.66      0.75     13597\n",
      "\n",
      "Best Penalty: l2\n",
      "Best C: 1.0\n"
     ]
    },
    {
     "data": {
      "text/plain": [
       "array([0, 1, 0, ..., 1, 0, 1])"
      ]
     },
     "execution_count": 80,
     "metadata": {},
     "output_type": "execute_result"
    }
   ],
   "source": [
    "#random search in LR\n",
    "# Create regularization penalty space\n",
    "penalty = ['l1', 'l2']\n",
    "\n",
    "# Create regularization hyperparameter distribution using uniform distribution\n",
    "#C = uniform(loc=0, scale=4)\n",
    "\n",
    "# Create hyperparameter options\n",
    "hyperparameters = dict(penalty=penalty)\n",
    "\n",
    "random_lr = RandomizedSearchCV(lr, hyperparameters, random_state=72, n_iter=100, cv=5, verbose=0, n_jobs=-1)\n",
    "lr_random_model = random_lr.fit(X_train_tf, y_train_tf)\n",
    "\n",
    "base_lr_predictions=lr.predict(X_test_tf)\n",
    "\n",
    "base_lr_results = showResults(\"Base LR\",y_test_tf, base_lr_predictions)\n",
    "\n",
    "# View best hyperparameters\n",
    "print('Best Penalty:', lr_random_model.best_estimator_.get_params()['penalty'])\n",
    "print('Best C:', lr_random_model.best_estimator_.get_params()['C'])\n",
    "\n",
    "lr_random_model.predict(X_test_tf)\n"
   ]
  },
  {
   "cell_type": "code",
   "execution_count": 81,
   "metadata": {},
   "outputs": [
    {
     "name": "stdout",
     "output_type": "stream",
     "text": [
      "Base LR Model\n",
      "\n",
      "Accuracy  : 0.6553651540781055\n",
      "Precision : 0.9221150437000989\n",
      "F1Score : 0.749260883950376\n",
      "Confusion Matrix: \n",
      "[[8437 4421]\n",
      " [ 265  474]]\n",
      "Classification Report: \n",
      "              precision    recall  f1-score   support\n",
      "\n",
      "           0       0.97      0.66      0.78     12858\n",
      "           1       0.10      0.64      0.17       739\n",
      "\n",
      "    accuracy                           0.66     13597\n",
      "   macro avg       0.53      0.65      0.48     13597\n",
      "weighted avg       0.92      0.66      0.75     13597\n",
      "\n",
      "GridSearchCV LR Model\n",
      "\n",
      "Accuracy  : 0.6553651540781055\n",
      "Precision : 0.9221150437000989\n",
      "F1Score : 0.749260883950376\n",
      "Confusion Matrix: \n",
      "[[8437 4421]\n",
      " [ 265  474]]\n",
      "Classification Report: \n",
      "              precision    recall  f1-score   support\n",
      "\n",
      "           0       0.97      0.66      0.78     12858\n",
      "           1       0.10      0.64      0.17       739\n",
      "\n",
      "    accuracy                           0.66     13597\n",
      "   macro avg       0.53      0.65      0.48     13597\n",
      "weighted avg       0.92      0.66      0.75     13597\n",
      "\n"
     ]
    },
    {
     "data": {
      "text/plain": [
       "0.6553651540781055"
      ]
     },
     "execution_count": 81,
     "metadata": {},
     "output_type": "execute_result"
    }
   ],
   "source": [
    "print(\"Base LR Model\\n\")\n",
    "showResults(\"Base LR\",y_test_tf, base_lr_predictions)\n",
    "print(\"GridSearchCV LR Model\\n\")\n",
    "\n",
    "showResults(\"GridSearchCV LR\",y_test_tf, grid_lr_predictions)"
   ]
  },
  {
   "cell_type": "code",
   "execution_count": 82,
   "metadata": {},
   "outputs": [
    {
     "name": "stdout",
     "output_type": "stream",
     "text": [
      "Accuracy  : 0.17400897256747813\n",
      "Precision : 0.9266856268701928\n",
      "F1Score : 0.22248031530853254\n",
      "Confusion Matrix: \n",
      "[[ 1667 11191]\n",
      " [   40   699]]\n",
      "Classification Report: \n",
      "              precision    recall  f1-score   support\n",
      "\n",
      "           0       0.98      0.13      0.23     12858\n",
      "           1       0.06      0.95      0.11       739\n",
      "\n",
      "    accuracy                           0.17     13597\n",
      "   macro avg       0.52      0.54      0.17     13597\n",
      "weighted avg       0.93      0.17      0.22     13597\n",
      "\n"
     ]
    }
   ],
   "source": [
    "#implement SGDC\n",
    "sgdc=SGDClassifier(loss = 'log',alpha = 0.1,random_state = 72)\n",
    "sgdc.fit(X_train_tf, y_train_tf)\n",
    "\n",
    "base_sgdc_predictions=sgdc.predict(X_test_tf)\n",
    "sgdc_base_results = showResults(\"Base SGDC\",y_test_tf, base_sgdc_predictions)"
   ]
  },
  {
   "cell_type": "code",
   "execution_count": 84,
   "metadata": {},
   "outputs": [
    {
     "name": "stderr",
     "output_type": "stream",
     "text": [
      "C:\\Users\\pankt\\anaconda_3\\lib\\site-packages\\sklearn\\model_selection\\_search.py:281: UserWarning: The total space of parameters 18 is smaller than n_iter=1000. Running 18 iterations. For exhaustive searches, use GridSearchCV.\n",
      "  % (grid_size, self.n_iter, grid_size), UserWarning)\n"
     ]
    },
    {
     "name": "stdout",
     "output_type": "stream",
     "text": [
      "Accuracy  : 0.6352871957049349\n",
      "Precision : 0.9211318587646928\n",
      "F1Score : 0.7340640787794409\n",
      "Confusion Matrix: \n",
      "[[8162 4696]\n",
      " [ 263  476]]\n",
      "Classification Report: \n",
      "              precision    recall  f1-score   support\n",
      "\n",
      "           0       0.97      0.63      0.77     12858\n",
      "           1       0.09      0.64      0.16       739\n",
      "\n",
      "    accuracy                           0.64     13597\n",
      "   macro avg       0.53      0.64      0.46     13597\n",
      "weighted avg       0.92      0.64      0.73     13597\n",
      "\n"
     ]
    }
   ],
   "source": [
    "#randomsearch cv in sgdc model\n",
    "penalty = ['none','l2','l1']\n",
    "max_iter = range(1000,5000,10000)\n",
    "alpha = [0.001,0.003,0.01,0.03,0.1,0.3]\n",
    "random_grid_sgdc = {'penalty':penalty,\n",
    "              'max_iter':max_iter,\n",
    "              'alpha':alpha}\n",
    "# create the randomized search cross-validation\n",
    "sgdc_random = RandomizedSearchCV(estimator = sgdc, param_distributions = random_grid_sgdc, \n",
    "                                 n_iter = 1000, cv = 2,verbose = 0, \n",
    "                                 random_state = 72)\n",
    "\n",
    "sgdc_random.fit(X_train_tf, y_train_tf)\n",
    "\n",
    "random_sgdc_predictions = sgdc_random.predict(X_test_tf)\n",
    "\n",
    "sgdc_random_results = showResults(\"RandomSearchCV SGDC\",y_test_tf, random_sgdc_predictions)\n"
   ]
  },
  {
   "cell_type": "code",
   "execution_count": 85,
   "metadata": {},
   "outputs": [
    {
     "name": "stdout",
     "output_type": "stream",
     "text": [
      "Best Parameters are\n",
      "{'alpha': 0.001, 'loss': 'log', 'n_jobs': -1, 'penalty': 'l2'}\n",
      "Best Score is\n",
      "0.6232365145228216\n",
      "(13597,)\n",
      "Accuracy  : 0.6352871957049349\n",
      "Precision : 0.9211318587646928\n",
      "F1Score : 0.7340640787794409\n",
      "Confusion Matrix: \n",
      "[[8162 4696]\n",
      " [ 263  476]]\n",
      "Classification Report: \n",
      "              precision    recall  f1-score   support\n",
      "\n",
      "           0       0.97      0.63      0.77     12858\n",
      "           1       0.09      0.64      0.16       739\n",
      "\n",
      "    accuracy                           0.64     13597\n",
      "   macro avg       0.53      0.64      0.46     13597\n",
      "weighted avg       0.92      0.64      0.73     13597\n",
      "\n"
     ]
    }
   ],
   "source": [
    "#gridsearch cv in sgdc model\n",
    "#create a dictionary of all values we want to test for n_neighbors\n",
    "param_grid = {'alpha': [1e-4, 1e-3, 1e-2, 1e-1, 1e0, 1e1, 1e2, 1e3], # learning rate\n",
    "    'loss': ['log'], # logistic regression,\n",
    "    'penalty': ['l2'],\n",
    "    'n_jobs': [-1]}\n",
    "#use gridsearch to test all values for n_neighbors\n",
    "grid_sgdc = GridSearchCV(sgdc, param_grid, cv=3)\n",
    "#fit model to data\n",
    "grid_sgdc.fit(X_train_tf, y_train_tf)\n",
    "print(\"Best Parameters are\")\n",
    "print(grid_sgdc.best_params_)\n",
    "print(\"Best Score is\")\n",
    "print(grid_sgdc.best_score_)\n",
    "\n",
    "best_grid_sgdc=grid_sgdc.best_estimator_\n",
    "grid_sgdc_predictions = best_grid_sgdc.predict(X_test_tf)\n",
    "print(grid_sgdc_predictions.shape)\n",
    "sgdc_grid_results = showResults(\"GridSearchCV SGDC\",y_test_tf, grid_sgdc_predictions)\n"
   ]
  },
  {
   "cell_type": "code",
   "execution_count": 86,
   "metadata": {
    "scrolled": true
   },
   "outputs": [
    {
     "name": "stdout",
     "output_type": "stream",
     "text": [
      "Base SGDC Model\n",
      "\n",
      "Accuracy  : 0.6277119952930793\n",
      "Precision : 0.9203243429099409\n",
      "F1Score : 0.7282621877453038\n",
      "Confusion Matrix: \n",
      "[[8062 4796]\n",
      " [ 266  473]]\n",
      "Classification Report: \n",
      "              precision    recall  f1-score   support\n",
      "\n",
      "           0       0.97      0.63      0.76     12858\n",
      "           1       0.09      0.64      0.16       739\n",
      "\n",
      "    accuracy                           0.63     13597\n",
      "   macro avg       0.53      0.63      0.46     13597\n",
      "weighted avg       0.92      0.63      0.73     13597\n",
      "\n",
      "\n",
      "RandomSearchSGDC Model\n",
      "\n",
      "Accuracy  : 0.6352871957049349\n",
      "Precision : 0.9211318587646928\n",
      "F1Score : 0.7340640787794409\n",
      "Confusion Matrix: \n",
      "[[8162 4696]\n",
      " [ 263  476]]\n",
      "Classification Report: \n",
      "              precision    recall  f1-score   support\n",
      "\n",
      "           0       0.97      0.63      0.77     12858\n",
      "           1       0.09      0.64      0.16       739\n",
      "\n",
      "    accuracy                           0.64     13597\n",
      "   macro avg       0.53      0.64      0.46     13597\n",
      "weighted avg       0.92      0.64      0.73     13597\n",
      "\n",
      "Accuracy  : 0.6352871957049349\n",
      "Precision : 0.9211318587646928\n",
      "F1Score : 0.7340640787794409\n",
      "Confusion Matrix: \n",
      "[[8162 4696]\n",
      " [ 263  476]]\n",
      "Classification Report: \n",
      "              precision    recall  f1-score   support\n",
      "\n",
      "           0       0.97      0.63      0.77     12858\n",
      "           1       0.09      0.64      0.16       739\n",
      "\n",
      "    accuracy                           0.64     13597\n",
      "   macro avg       0.53      0.64      0.46     13597\n",
      "weighted avg       0.92      0.64      0.73     13597\n",
      "\n"
     ]
    },
    {
     "data": {
      "text/plain": [
       "0.6352871957049349"
      ]
     },
     "execution_count": 86,
     "metadata": {},
     "output_type": "execute_result"
    }
   ],
   "source": [
    "# print results\n",
    "print(\"Base SGDC Model\\n\")\n",
    "showResults(\"Base SGDC\",y_test_tf, base_rf_predictions)\n",
    "#base_rf_cv_score = cross_val_score(base_rf, tempX, tempY, cv=10, scoring=\"roc_auc\")\n",
    "\n",
    "\n",
    "print(\"\\nRandomSearchSGDC Model\\n\")\n",
    "showResults(\"nRandomSearchSGDC\",y_test_tf, random_sgdc_predictions)\n",
    "#random_rf_cv_score = cross_val_score(best_random, X, y, cv=10, scoring=\"roc_auc\")\n",
    "showResults(\"GridSearchCV_SGDC\",y_test_tf, grid_sgdc_predictions)"
   ]
  },
  {
   "cell_type": "code",
   "execution_count": 87,
   "metadata": {},
   "outputs": [
    {
     "name": "stdout",
     "output_type": "stream",
     "text": [
      "Accuracy  : 0.5550489078473193\n",
      "Precision : 0.9058940086666825\n",
      "F1Score : 0.6708296251435691\n",
      "Confusion Matrix: \n",
      "[[7151 5707]\n",
      " [ 343  396]]\n",
      "Classification Report: \n",
      "              precision    recall  f1-score   support\n",
      "\n",
      "           0       0.95      0.56      0.70     12858\n",
      "           1       0.06      0.54      0.12       739\n",
      "\n",
      "    accuracy                           0.56     13597\n",
      "   macro avg       0.51      0.55      0.41     13597\n",
      "weighted avg       0.91      0.56      0.67     13597\n",
      "\n"
     ]
    }
   ],
   "source": [
    "#implement decision tree algorithm\n",
    "tree = DecisionTreeClassifier(max_depth = 150, random_state = 72)\n",
    "tree.fit(X_train_tf, y_train_tf)\n",
    "\n",
    "base_tree_predictions = tree.predict(X_test_tf)\n",
    "tree_base_results = showResults(\"Base Decision Tree\",y_test_tf, base_tree_predictions)"
   ]
  },
  {
   "cell_type": "code",
   "execution_count": 88,
   "metadata": {},
   "outputs": [
    {
     "name": "stdout",
     "output_type": "stream",
     "text": [
      "Accuracy  : 0.6394792969037287\n",
      "Precision : 0.9186807786103061\n",
      "F1Score : 0.7373749614573079\n",
      "Confusion Matrix: \n",
      "[[8243 4615]\n",
      " [ 287  452]]\n",
      "Classification Report: \n",
      "              precision    recall  f1-score   support\n",
      "\n",
      "           0       0.97      0.64      0.77     12858\n",
      "           1       0.09      0.61      0.16       739\n",
      "\n",
      "    accuracy                           0.64     13597\n",
      "   macro avg       0.53      0.63      0.46     13597\n",
      "weighted avg       0.92      0.64      0.74     13597\n",
      "\n"
     ]
    }
   ],
   "source": [
    "#implement gradient boosting algorithm\n",
    "gbc =GradientBoostingClassifier(n_estimators=100, learning_rate=0.1,\n",
    "     max_depth=5, random_state=72)\n",
    "gbc.fit(X_train_tf, y_train_tf)\n",
    "\n",
    "base_gbc_predictions=gbc.predict(X_test_tf)\n",
    "gbc_base_results = showResults(\"Base GBC\",y_test_tf, base_gbc_predictions)"
   ]
  },
  {
   "cell_type": "code",
   "execution_count": 72,
   "metadata": {},
   "outputs": [
    {
     "name": "stdout",
     "output_type": "stream",
     "text": [
      "Accuracy  : 0.6545561520923733\n",
      "Precision : 0.9168302510040194\n",
      "F1Score : 0.7477949001944788\n",
      "Confusion Matrix: \n",
      "[[8443 4395]\n",
      " [ 302  457]]\n",
      "Classification Report: \n",
      "              precision    recall  f1-score   support\n",
      "\n",
      "           0       0.97      0.66      0.78     12838\n",
      "           1       0.09      0.60      0.16       759\n",
      "\n",
      "    accuracy                           0.65     13597\n",
      "   macro avg       0.53      0.63      0.47     13597\n",
      "weighted avg       0.92      0.65      0.75     13597\n",
      "\n"
     ]
    }
   ],
   "source": [
    "#implement random search CV with GBC model\n",
    "n_estimators = range(100,500,100)\n",
    "\n",
    "# maximum depth of the tree\n",
    "max_depth = range(1,5,1)\n",
    "\n",
    "# learning rate\n",
    "learning_rate = [0.001,0.01,0.1]\n",
    "\n",
    "# random grid\n",
    "\n",
    "random_grid_gbc = {'n_estimators':n_estimators,\n",
    "              'max_depth':max_depth,\n",
    "              'learning_rate':learning_rate}\n",
    "\n",
    "# create the randomized search cross-validation\n",
    "gbc_random = RandomizedSearchCV(estimator = gbc, param_distributions = random_grid_gbc,\n",
    "                                n_iter = 20, cv = 2, \n",
    "                                verbose = 0, random_state = 72)\n",
    "\n",
    "gbc_random.fit(X_train_tf, y_train_tf)\n",
    "\n",
    "random_gbc_predictions = gbc_random.predict(X_test_tf)\n",
    "\n",
    "gbc_random_results = showResults(\"RandomSearchCV GBC\",y_test_tf, random_gbc_predictions)"
   ]
  },
  {
   "cell_type": "code",
   "execution_count": 90,
   "metadata": {},
   "outputs": [
    {
     "name": "stdout",
     "output_type": "stream",
     "text": [
      "Best Parameters are\n",
      "{'learning_rate': 0.1, 'max_depth': 2, 'min_samples_split': 10}\n",
      "Best Score is\n",
      "0.6174273858921162\n",
      "Accuracy  : 0.6700742810914172\n",
      "Precision : 0.917145421408238\n",
      "F1Score : 0.7602311931880834\n",
      "Confusion Matrix: \n",
      "[[8691 4167]\n",
      " [ 319  420]]\n",
      "Classification Report: \n",
      "              precision    recall  f1-score   support\n",
      "\n",
      "           0       0.96      0.68      0.79     12858\n",
      "           1       0.09      0.57      0.16       739\n",
      "\n",
      "    accuracy                           0.67     13597\n",
      "   macro avg       0.53      0.62      0.48     13597\n",
      "weighted avg       0.92      0.67      0.76     13597\n",
      "\n"
     ]
    }
   ],
   "source": [
    "# implement grid search CV with gbc model\n",
    "#create a dictionary of all values we want to test for n_neighbors\n",
    "param_grid = {'learning_rate':[0.01, 0.05, 0.1, 0.5, 1], \n",
    "              'min_samples_split':[2,5,10,20], \n",
    "              'max_depth':[2,3,5,10]}\n",
    "#use gridsearch to test all values for n_neighbors\n",
    "grid_gbc = GridSearchCV(gbc, param_grid, cv=3)\n",
    "#fit model to data\n",
    "grid_gbc.fit(X_train_tf, y_train_tf)\n",
    "print(\"Best Parameters are\")\n",
    "print(grid_gbc.best_params_)\n",
    "print(\"Best Score is\")\n",
    "print(grid_gbc.best_score_)\n",
    "\n",
    "best_grid_gbc=grid_gbc.best_estimator_\n",
    "grid_gbc_predictions = best_grid_gbc.predict(X_test_tf)\n",
    "#print(grid_gbc_predictions.shape)\n",
    "gbc_grid_results = showResults(\"GridSearchCV GBC\",y_test_tf, grid_gbc_predictions)"
   ]
  },
  {
   "cell_type": "code",
   "execution_count": 93,
   "metadata": {},
   "outputs": [
    {
     "name": "stdout",
     "output_type": "stream",
     "text": [
      "Base GBC Model\n",
      "\n",
      "Accuracy  : 0.6394792969037287\n",
      "Precision : 0.9186807786103061\n",
      "F1Score : 0.7373749614573079\n",
      "Confusion Matrix: \n",
      "[[8243 4615]\n",
      " [ 287  452]]\n",
      "Classification Report: \n",
      "              precision    recall  f1-score   support\n",
      "\n",
      "           0       0.97      0.64      0.77     12858\n",
      "           1       0.09      0.61      0.16       739\n",
      "\n",
      "    accuracy                           0.64     13597\n",
      "   macro avg       0.53      0.63      0.46     13597\n",
      "weighted avg       0.92      0.64      0.74     13597\n",
      "\n",
      "\n",
      "RandomSearch_GBC Model\n",
      "\n",
      "Accuracy  : 0.6700742810914172\n",
      "Precision : 0.917145421408238\n",
      "F1Score : 0.7602311931880834\n",
      "Confusion Matrix: \n",
      "[[8691 4167]\n",
      " [ 319  420]]\n",
      "Classification Report: \n",
      "              precision    recall  f1-score   support\n",
      "\n",
      "           0       0.96      0.68      0.79     12858\n",
      "           1       0.09      0.57      0.16       739\n",
      "\n",
      "    accuracy                           0.67     13597\n",
      "   macro avg       0.53      0.62      0.48     13597\n",
      "weighted avg       0.92      0.67      0.76     13597\n",
      "\n"
     ]
    },
    {
     "data": {
      "text/plain": [
       "0.6700742810914172"
      ]
     },
     "execution_count": 93,
     "metadata": {},
     "output_type": "execute_result"
    }
   ],
   "source": [
    "# print results\n",
    "print(\"Base GBC Model\\n\")\n",
    "showResults(\"Base GBC\",y_test_tf, base_gbc_predictions)\n",
    "\n",
    "print(\"\\nRandomSearch_GBC Model\\n\")\n",
    "showResults(\"GridSearchCV_SGDC\",y_test_tf, grid_gbc_predictions)"
   ]
  },
  {
   "cell_type": "code",
   "execution_count": 94,
   "metadata": {},
   "outputs": [
    {
     "name": "stdout",
     "output_type": "stream",
     "text": [
      "Accuracy  : 0.6658086342575568\n",
      "Precision : 0.9188106173814641\n",
      "F1Score : 0.7570871012843013\n",
      "Confusion Matrix: \n",
      "[[8615 4243]\n",
      " [ 301  438]]\n",
      "Classification Report: \n",
      "              precision    recall  f1-score   support\n",
      "\n",
      "           0       0.97      0.67      0.79     12858\n",
      "           1       0.09      0.59      0.16       739\n",
      "\n",
      "    accuracy                           0.67     13597\n",
      "   macro avg       0.53      0.63      0.48     13597\n",
      "weighted avg       0.92      0.67      0.76     13597\n",
      "\n"
     ]
    }
   ],
   "source": [
    "# print adaboost algorithm\n",
    "adaclass = AdaBoostClassifier(n_estimators = 100, learning_rate = 0.2, random_state = 72)\n",
    "adaclass.fit(X_train_tf, y_train_tf)\n",
    "\n",
    "base_ada_predictions=adaclass.predict(X_test_tf)\n",
    "ada_base_results = showResults(\"Base ADA\",y_test_tf, base_ada_predictions)"
   ]
  },
  {
   "cell_type": "code",
   "execution_count": 95,
   "metadata": {},
   "outputs": [
    {
     "name": "stdout",
     "output_type": "stream",
     "text": [
      "Accuracy  : 0.6658086342575568\n",
      "Precision : 0.9188106173814641\n",
      "F1Score : 0.7570871012843013\n",
      "Confusion Matrix: \n",
      "[[8615 4243]\n",
      " [ 301  438]]\n",
      "Classification Report: \n",
      "              precision    recall  f1-score   support\n",
      "\n",
      "           0       0.97      0.67      0.79     12858\n",
      "           1       0.09      0.59      0.16       739\n",
      "\n",
      "    accuracy                           0.67     13597\n",
      "   macro avg       0.53      0.63      0.48     13597\n",
      "weighted avg       0.92      0.67      0.76     13597\n",
      "\n"
     ]
    }
   ],
   "source": [
    "# implement grid search withadaboost\n",
    "ada_boost = AdaBoostClassifier(n_estimators = 20, learning_rate = 0.2, random_state = 72)\n",
    "gridparam = {\n",
    "    'n_estimators':[100,200,500],\n",
    "    'learning_rate':[0.2,0.5,1.0],\n",
    "},\n",
    "adagrid = GridSearchCV(ada_boost, cv = 3, n_jobs = 3, param_grid=gridparam)\n",
    "adagrid. fit(X_train_tf, y_train_tf)\n",
    "\n",
    "grid_ada_predictions=adagrid.predict(X_test_tf)\n",
    "ada_grid_results = showResults(\"GridSearchCV ADA\",y_test_tf, grid_ada_predictions)"
   ]
  },
  {
   "cell_type": "code",
   "execution_count": 96,
   "metadata": {},
   "outputs": [
    {
     "name": "stdout",
     "output_type": "stream",
     "text": [
      "Base ADABOOST Model\n",
      "\n",
      "Accuracy  : 0.6658086342575568\n",
      "Precision : 0.9188106173814641\n",
      "F1Score : 0.7570871012843013\n",
      "Confusion Matrix: \n",
      "[[8615 4243]\n",
      " [ 301  438]]\n",
      "Classification Report: \n",
      "              precision    recall  f1-score   support\n",
      "\n",
      "           0       0.97      0.67      0.79     12858\n",
      "           1       0.09      0.59      0.16       739\n",
      "\n",
      "    accuracy                           0.67     13597\n",
      "   macro avg       0.53      0.63      0.48     13597\n",
      "weighted avg       0.92      0.67      0.76     13597\n",
      "\n",
      "\n",
      "RandomSearch_ADA Model\n",
      "\n",
      "Accuracy  : 0.6658086342575568\n",
      "Precision : 0.9188106173814641\n",
      "F1Score : 0.7570871012843013\n",
      "Confusion Matrix: \n",
      "[[8615 4243]\n",
      " [ 301  438]]\n",
      "Classification Report: \n",
      "              precision    recall  f1-score   support\n",
      "\n",
      "           0       0.97      0.67      0.79     12858\n",
      "           1       0.09      0.59      0.16       739\n",
      "\n",
      "    accuracy                           0.67     13597\n",
      "   macro avg       0.53      0.63      0.48     13597\n",
      "weighted avg       0.92      0.67      0.76     13597\n",
      "\n"
     ]
    },
    {
     "data": {
      "text/plain": [
       "0.6658086342575568"
      ]
     },
     "execution_count": 96,
     "metadata": {},
     "output_type": "execute_result"
    }
   ],
   "source": [
    "# showcase result\n",
    "print(\"Base ADABOOST Model\\n\")\n",
    "showResults(\"Base ADA\",y_test_tf, base_ada_predictions)\n",
    "\n",
    "print(\"\\nRandomSearch_ADA Model\\n\")\n",
    "showResults(\"GridSearchCV ADA\",y_test_tf, grid_ada_predictions)"
   ]
  },
  {
   "cell_type": "code",
   "execution_count": 97,
   "metadata": {},
   "outputs": [
    {
     "name": "stdout",
     "output_type": "stream",
     "text": [
      "Requirement already satisfied: xgboost in c:\\users\\pankt\\anaconda_3\\lib\\site-packages (1.2.1)\n",
      "Requirement already satisfied: scipy in c:\\users\\pankt\\anaconda_3\\lib\\site-packages (from xgboost) (1.4.1)\n",
      "Requirement already satisfied: numpy in c:\\users\\pankt\\anaconda_3\\lib\\site-packages (from xgboost) (1.18.1)\n",
      "Accuracy  : 0.6193277928954917\n",
      "Precision : 0.9199178311028745\n",
      "F1Score : 0.7217574314456092\n",
      "Confusion Matrix: \n",
      "[[7947 4911]\n",
      " [ 265  474]]\n",
      "Classification Report: \n",
      "              precision    recall  f1-score   support\n",
      "\n",
      "           0       0.97      0.62      0.75     12858\n",
      "           1       0.09      0.64      0.15       739\n",
      "\n",
      "    accuracy                           0.62     13597\n",
      "   macro avg       0.53      0.63      0.45     13597\n",
      "weighted avg       0.92      0.62      0.72     13597\n",
      "\n"
     ]
    }
   ],
   "source": [
    "#install xgboost and implement algo\n",
    "!pip install xgboost\n",
    "from xgboost import XGBClassifier\n",
    "xgb = XGBClassifier(\n",
    "    n_estimators=500, \n",
    "    max_depth=10,\n",
    "    learning_rate=0.2,\n",
    "    colsample_bytree=.7,\n",
    "    gpu_id=0,\n",
    "    tree_method=\"gpu_hist\"\n",
    ")\n",
    "\n",
    "xgb.fit(X_train_tf, y_train_tf)\n",
    "\n",
    "base_XGB_predictions=xgb.predict(X_test_tf)\n",
    "xgb_base_results = showResults(\"Base XGB\",y_test_tf, base_XGB_predictions)"
   ]
  },
  {
   "cell_type": "code",
   "execution_count": 98,
   "metadata": {},
   "outputs": [
    {
     "name": "stderr",
     "output_type": "stream",
     "text": [
      "C:\\Users\\pankt\\anaconda_3\\lib\\site-packages\\joblib\\externals\\loky\\process_executor.py:706: UserWarning: A worker stopped while some jobs were given to the executor. This can be caused by a too short worker timeout or by a memory leak.\n",
      "  \"timeout or by a memory leak.\", UserWarning\n"
     ]
    },
    {
     "name": "stdout",
     "output_type": "stream",
     "text": [
      "Accuracy  : 0.6171214238434949\n",
      "Precision : 0.9201287578690666\n",
      "F1Score : 0.7200148610586367\n",
      "Confusion Matrix: \n",
      "[[7914 4944]\n",
      " [ 262  477]]\n",
      "Classification Report: \n",
      "              precision    recall  f1-score   support\n",
      "\n",
      "           0       0.97      0.62      0.75     12858\n",
      "           1       0.09      0.65      0.15       739\n",
      "\n",
      "    accuracy                           0.62     13597\n",
      "   macro avg       0.53      0.63      0.45     13597\n",
      "weighted avg       0.92      0.62      0.72     13597\n",
      "\n"
     ]
    }
   ],
   "source": [
    "#implement grid searchcv with XGB model\n",
    "gridparam = {\n",
    "    'n_estimators':[100,200,500],\n",
    "    'learning_rate':[0.2,0.5,1.0],\n",
    "},\n",
    "xgb_grid = GridSearchCV(xgb, cv = 5, n_jobs = 3, param_grid=gridparam)\n",
    "xgb_grid. fit(X_train_tf, y_train_tf)\n",
    "\n",
    "xgb_grid.best_params_\n",
    "grid_XGB_predictions = xgb_grid.predict(X_test_tf)\n",
    "xgb_grid_results = showResults(\"Grid XGB\",y_test_tf, grid_XGB_predictions)\n",
    "              "
   ]
  },
  {
   "cell_type": "code",
   "execution_count": 99,
   "metadata": {},
   "outputs": [
    {
     "name": "stdout",
     "output_type": "stream",
     "text": [
      "Base XGB Model\n",
      "\n",
      "Accuracy  : 0.6193277928954917\n",
      "Precision : 0.9199178311028745\n",
      "F1Score : 0.7217574314456092\n",
      "Confusion Matrix: \n",
      "[[7947 4911]\n",
      " [ 265  474]]\n",
      "Classification Report: \n",
      "              precision    recall  f1-score   support\n",
      "\n",
      "           0       0.97      0.62      0.75     12858\n",
      "           1       0.09      0.64      0.15       739\n",
      "\n",
      "    accuracy                           0.62     13597\n",
      "   macro avg       0.53      0.63      0.45     13597\n",
      "weighted avg       0.92      0.62      0.72     13597\n",
      "\n",
      "\n",
      "GridSearch XGB Model\n",
      "\n",
      "Accuracy  : 0.6171214238434949\n",
      "Precision : 0.9201287578690666\n",
      "F1Score : 0.7200148610586367\n",
      "Confusion Matrix: \n",
      "[[7914 4944]\n",
      " [ 262  477]]\n",
      "Classification Report: \n",
      "              precision    recall  f1-score   support\n",
      "\n",
      "           0       0.97      0.62      0.75     12858\n",
      "           1       0.09      0.65      0.15       739\n",
      "\n",
      "    accuracy                           0.62     13597\n",
      "   macro avg       0.53      0.63      0.45     13597\n",
      "weighted avg       0.92      0.62      0.72     13597\n",
      "\n"
     ]
    },
    {
     "data": {
      "text/plain": [
       "0.6171214238434949"
      ]
     },
     "execution_count": 99,
     "metadata": {},
     "output_type": "execute_result"
    }
   ],
   "source": [
    "# showcase results\n",
    "print(\"Base XGB Model\\n\")\n",
    "showResults(\"Base XGB\",y_test_tf, base_XGB_predictions)\n",
    "\n",
    "print(\"\\nGridSearch XGB Model\\n\")\n",
    "showResults(\"Grid XGB\",y_test_tf, grid_XGB_predictions)"
   ]
  },
  {
   "cell_type": "code",
   "execution_count": 102,
   "metadata": {},
   "outputs": [],
   "source": [
    "#show results in form of chart\n",
    "df_results = pd.DataFrame({'classifier':['KNN','KNN',\n",
    "                                         'RF','RF',\n",
    "                                         'LR','LR',\n",
    "                                         'SGD','SGD','SGD',\n",
    "                                         'DT',\n",
    "                                         'GB','GB',\n",
    "                                        'ADA','ADA',\n",
    "                                        'XGB','XGB'],\n",
    "                           'data_set':['BASE', 'GRID',\n",
    "                                       'BASE','RANDOM',\n",
    "                                      'BASE','GRID',\n",
    "                                         'BASE','RANDOM','GRID',\n",
    "                                         'BASE',\n",
    "                                         'BASE','GRID',\n",
    "                                        'BASE','GRID',\n",
    "                                        'BASE','GRID'],\n",
    "                \n",
    "                          'accuracy':[knn_base_results,grid_knn_results,\n",
    "                                      base_rf_results,random_rf_results,\n",
    "                                      base_lr_results,grid_lr_results,\n",
    "                                      sgdc_base_results,sgdc_random_results,sgdc_grid_results,\n",
    "                                      tree_base_results,\n",
    "                                      gbc_base_results,gbc_grid_results,\n",
    "                                      ada_base_results ,ada_grid_results,\n",
    "                                      xgb_base_results,xgb_grid_results,]\n",
    "                          })"
   ]
  },
  {
   "cell_type": "code",
   "execution_count": 103,
   "metadata": {},
   "outputs": [
    {
     "data": {
      "text/html": [
       "<div>\n",
       "<style scoped>\n",
       "    .dataframe tbody tr th:only-of-type {\n",
       "        vertical-align: middle;\n",
       "    }\n",
       "\n",
       "    .dataframe tbody tr th {\n",
       "        vertical-align: top;\n",
       "    }\n",
       "\n",
       "    .dataframe thead th {\n",
       "        text-align: right;\n",
       "    }\n",
       "</style>\n",
       "<table border=\"1\" class=\"dataframe\">\n",
       "  <thead>\n",
       "    <tr style=\"text-align: right;\">\n",
       "      <th></th>\n",
       "      <th>classifier</th>\n",
       "      <th>data_set</th>\n",
       "      <th>accuracy</th>\n",
       "    </tr>\n",
       "  </thead>\n",
       "  <tbody>\n",
       "    <tr>\n",
       "      <th>0</th>\n",
       "      <td>KNN</td>\n",
       "      <td>BASE</td>\n",
       "      <td>0.452085</td>\n",
       "    </tr>\n",
       "    <tr>\n",
       "      <th>1</th>\n",
       "      <td>KNN</td>\n",
       "      <td>GRID</td>\n",
       "      <td>0.383467</td>\n",
       "    </tr>\n",
       "    <tr>\n",
       "      <th>2</th>\n",
       "      <td>RF</td>\n",
       "      <td>BASE</td>\n",
       "      <td>0.627712</td>\n",
       "    </tr>\n",
       "    <tr>\n",
       "      <th>3</th>\n",
       "      <td>RF</td>\n",
       "      <td>RANDOM</td>\n",
       "      <td>0.626756</td>\n",
       "    </tr>\n",
       "    <tr>\n",
       "      <th>4</th>\n",
       "      <td>LR</td>\n",
       "      <td>BASE</td>\n",
       "      <td>0.655365</td>\n",
       "    </tr>\n",
       "    <tr>\n",
       "      <th>5</th>\n",
       "      <td>LR</td>\n",
       "      <td>GRID</td>\n",
       "      <td>0.655365</td>\n",
       "    </tr>\n",
       "    <tr>\n",
       "      <th>6</th>\n",
       "      <td>SGD</td>\n",
       "      <td>BASE</td>\n",
       "      <td>0.174009</td>\n",
       "    </tr>\n",
       "    <tr>\n",
       "      <th>7</th>\n",
       "      <td>SGD</td>\n",
       "      <td>RANDOM</td>\n",
       "      <td>0.635287</td>\n",
       "    </tr>\n",
       "    <tr>\n",
       "      <th>8</th>\n",
       "      <td>SGD</td>\n",
       "      <td>GRID</td>\n",
       "      <td>0.635287</td>\n",
       "    </tr>\n",
       "    <tr>\n",
       "      <th>9</th>\n",
       "      <td>DT</td>\n",
       "      <td>BASE</td>\n",
       "      <td>0.555049</td>\n",
       "    </tr>\n",
       "    <tr>\n",
       "      <th>10</th>\n",
       "      <td>GB</td>\n",
       "      <td>BASE</td>\n",
       "      <td>0.639479</td>\n",
       "    </tr>\n",
       "    <tr>\n",
       "      <th>11</th>\n",
       "      <td>GB</td>\n",
       "      <td>GRID</td>\n",
       "      <td>0.670074</td>\n",
       "    </tr>\n",
       "    <tr>\n",
       "      <th>12</th>\n",
       "      <td>ADA</td>\n",
       "      <td>BASE</td>\n",
       "      <td>0.665809</td>\n",
       "    </tr>\n",
       "    <tr>\n",
       "      <th>13</th>\n",
       "      <td>ADA</td>\n",
       "      <td>GRID</td>\n",
       "      <td>0.665809</td>\n",
       "    </tr>\n",
       "    <tr>\n",
       "      <th>14</th>\n",
       "      <td>XGB</td>\n",
       "      <td>BASE</td>\n",
       "      <td>0.619328</td>\n",
       "    </tr>\n",
       "    <tr>\n",
       "      <th>15</th>\n",
       "      <td>XGB</td>\n",
       "      <td>GRID</td>\n",
       "      <td>0.617121</td>\n",
       "    </tr>\n",
       "  </tbody>\n",
       "</table>\n",
       "</div>"
      ],
      "text/plain": [
       "   classifier data_set  accuracy\n",
       "0         KNN     BASE  0.452085\n",
       "1         KNN     GRID  0.383467\n",
       "2          RF     BASE  0.627712\n",
       "3          RF   RANDOM  0.626756\n",
       "4          LR     BASE  0.655365\n",
       "5          LR     GRID  0.655365\n",
       "6         SGD     BASE  0.174009\n",
       "7         SGD   RANDOM  0.635287\n",
       "8         SGD     GRID  0.635287\n",
       "9          DT     BASE  0.555049\n",
       "10         GB     BASE  0.639479\n",
       "11         GB     GRID  0.670074\n",
       "12        ADA     BASE  0.665809\n",
       "13        ADA     GRID  0.665809\n",
       "14        XGB     BASE  0.619328\n",
       "15        XGB     GRID  0.617121"
      ]
     },
     "execution_count": 103,
     "metadata": {},
     "output_type": "execute_result"
    }
   ],
   "source": [
    "#print results\n",
    "df_results"
   ]
  },
  {
   "cell_type": "code",
   "execution_count": 104,
   "metadata": {},
   "outputs": [
    {
     "data": {
      "image/png": "[encoded data removed]",
      "text/plain": [
       "<Figure size 432x288 with 1 Axes>"
      ]
     },
     "metadata": {
      "needs_background": "light"
     },
     "output_type": "display_data"
    }
   ],
   "source": [
    "#create a histogram of the output\n",
    "ax = sns.barplot(x=\"classifier\", y=\"accuracy\", hue=\"data_set\", data=df_results)\n",
    "ax.set_xlabel('Classifier',fontsize = 15)\n",
    "ax.set_ylabel('ACCURACY', fontsize = 15)\n",
    "ax.tick_params(labelsize=15)\n",
    "# Put the legend out of the figure\n",
    "plt.legend(bbox_to_anchor=(1.05, 1), loc=2, borderaxespad=0., fontsize = 15)\n",
    "\n",
    "plt.show()"
   ]
  },
  {
   "cell_type": "code",
   "execution_count": 105,
   "metadata": {},
   "outputs": [],
   "source": [
    "#show results in form of chart\n",
    "df_results_base = pd.DataFrame({'classifier':['KNN',\n",
    "                                         'RF',\n",
    "                                         'LR',\n",
    "                                         'SGD',\n",
    "                                         'DT',\n",
    "                                         'GB',\n",
    "                                        'ADA',\n",
    "                                        'XGB'],\n",
    "                           'data_set':['BASE']*8,\n",
    "                \n",
    "                          'accuracy':[knn_base_results,\n",
    "                                      base_rf_results,\n",
    "                                      base_lr_results,\n",
    "                                      sgdc_base_results,\n",
    "                                      tree_base_results,\n",
    "                                      gbc_base_results,\n",
    "                                      ada_base_results ,\n",
    "                                      xgb_base_results,]\n",
    "                          })"
   ]
  },
  {
   "cell_type": "code",
   "execution_count": 106,
   "metadata": {},
   "outputs": [
    {
     "data": {
      "text/html": [
       "<div>\n",
       "<style scoped>\n",
       "    .dataframe tbody tr th:only-of-type {\n",
       "        vertical-align: middle;\n",
       "    }\n",
       "\n",
       "    .dataframe tbody tr th {\n",
       "        vertical-align: top;\n",
       "    }\n",
       "\n",
       "    .dataframe thead th {\n",
       "        text-align: right;\n",
       "    }\n",
       "</style>\n",
       "<table border=\"1\" class=\"dataframe\">\n",
       "  <thead>\n",
       "    <tr style=\"text-align: right;\">\n",
       "      <th></th>\n",
       "      <th>classifier</th>\n",
       "      <th>data_set</th>\n",
       "      <th>accuracy</th>\n",
       "    </tr>\n",
       "  </thead>\n",
       "  <tbody>\n",
       "    <tr>\n",
       "      <th>0</th>\n",
       "      <td>KNN</td>\n",
       "      <td>BASE</td>\n",
       "      <td>0.452085</td>\n",
       "    </tr>\n",
       "    <tr>\n",
       "      <th>1</th>\n",
       "      <td>RF</td>\n",
       "      <td>BASE</td>\n",
       "      <td>0.627712</td>\n",
       "    </tr>\n",
       "    <tr>\n",
       "      <th>2</th>\n",
       "      <td>LR</td>\n",
       "      <td>BASE</td>\n",
       "      <td>0.655365</td>\n",
       "    </tr>\n",
       "    <tr>\n",
       "      <th>3</th>\n",
       "      <td>SGD</td>\n",
       "      <td>BASE</td>\n",
       "      <td>0.174009</td>\n",
       "    </tr>\n",
       "    <tr>\n",
       "      <th>4</th>\n",
       "      <td>DT</td>\n",
       "      <td>BASE</td>\n",
       "      <td>0.555049</td>\n",
       "    </tr>\n",
       "    <tr>\n",
       "      <th>5</th>\n",
       "      <td>GB</td>\n",
       "      <td>BASE</td>\n",
       "      <td>0.639479</td>\n",
       "    </tr>\n",
       "    <tr>\n",
       "      <th>6</th>\n",
       "      <td>ADA</td>\n",
       "      <td>BASE</td>\n",
       "      <td>0.665809</td>\n",
       "    </tr>\n",
       "    <tr>\n",
       "      <th>7</th>\n",
       "      <td>XGB</td>\n",
       "      <td>BASE</td>\n",
       "      <td>0.619328</td>\n",
       "    </tr>\n",
       "  </tbody>\n",
       "</table>\n",
       "</div>"
      ],
      "text/plain": [
       "  classifier data_set  accuracy\n",
       "0        KNN     BASE  0.452085\n",
       "1         RF     BASE  0.627712\n",
       "2         LR     BASE  0.655365\n",
       "3        SGD     BASE  0.174009\n",
       "4         DT     BASE  0.555049\n",
       "5         GB     BASE  0.639479\n",
       "6        ADA     BASE  0.665809\n",
       "7        XGB     BASE  0.619328"
      ]
     },
     "execution_count": 106,
     "metadata": {},
     "output_type": "execute_result"
    }
   ],
   "source": [
    "#print results in form of table\n",
    "df_results_base"
   ]
  },
  {
   "cell_type": "code",
   "execution_count": 107,
   "metadata": {},
   "outputs": [
    {
     "data": {
      "image/png": "[encoded data removed]",
      "text/plain": [
       "<Figure size 432x288 with 1 Axes>"
      ]
     },
     "metadata": {
      "needs_background": "light"
     },
     "output_type": "display_data"
    }
   ],
   "source": [
    "#create a histogram of the output\n",
    "ax = sns.barplot(x=\"classifier\", y=\"accuracy\", hue=\"data_set\", data=df_results_base)\n",
    "ax.set_xlabel('Classifier',fontsize = 15)\n",
    "ax.set_ylabel('ACCURACY', fontsize = 15)\n",
    "ax.tick_params(labelsize=15)\n",
    "# Put the legend out of the figure\n",
    "plt.legend(bbox_to_anchor=(1.05, 1), loc=2, borderaxespad=0., fontsize = 15)\n",
    "\n",
    "plt.show()"
   ]
  },
  {
   "cell_type": "code",
   "execution_count": 108,
   "metadata": {},
   "outputs": [],
   "source": [
    "#claculate error in knn model\n",
    "error = []\n",
    "\n",
    "# Calculating error for K values between 1 and 40\n",
    "for i in range(700, 800):\n",
    "    knn = KNeighborsClassifier(n_neighbors=i)\n",
    "    knn.fit(X_train_tf, y_train_tf)\n",
    "    pred_i = knn.predict(X_test_tf)\n",
    "    error.append(np.mean(pred_i != y_test_tf))"
   ]
  },
  {
   "cell_type": "code",
   "execution_count": 109,
   "metadata": {},
   "outputs": [
    {
     "data": {
      "text/plain": [
       "Text(0, 0.5, 'Mean Error')"
      ]
     },
     "execution_count": 109,
     "metadata": {},
     "output_type": "execute_result"
    },
    {
     "data": {
      "image/png": "[encoded data removed]",
      "text/plain": [
       "<Figure size 864x432 with 1 Axes>"
      ]
     },
     "metadata": {
      "needs_background": "light"
     },
     "output_type": "display_data"
    }
   ],
   "source": [
    "#plot dig for errors in knn\n",
    "plt.figure(figsize=(12, 6))\n",
    "plt.plot(range(700, 800), error, color='red', linestyle='dashed', marker='o', markerfacecolor='blue', markersize=10)\n",
    "plt.title('Error Rate K Value')\n",
    "plt.xlabel('K Value')\n",
    "plt.ylabel('Mean Error')"
   ]
  }
 ],
 "metadata": {
  "kernelspec": {
   "display_name": "Python 3",
   "language": "python",
   "name": "python3"
  },
  "language_info": {
   "codemirror_mode": {
    "name": "ipython",
    "version": 3
   },
   "file_extension": ".py",
   "mimetype": "text/x-python",
   "name": "python",
   "nbconvert_exporter": "python",
   "pygments_lexer": "ipython3",
   "version": "3.7.6"
  }
 },
 "nbformat": 4,
 "nbformat_minor": 4
}
